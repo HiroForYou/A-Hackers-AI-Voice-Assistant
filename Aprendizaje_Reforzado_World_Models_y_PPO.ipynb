{
  "nbformat": 4,
  "nbformat_minor": 0,
  "metadata": {
    "kernelspec": {
      "display_name": "Python 3",
      "language": "python",
      "name": "python3"
    },
    "language_info": {
      "codemirror_mode": {
        "name": "ipython",
        "version": 3
      },
      "file_extension": ".py",
      "mimetype": "text/x-python",
      "name": "python",
      "nbconvert_exporter": "python",
      "pygments_lexer": "ipython3",
      "version": "3.7.6"
    },
    "colab": {
      "name": "Aprendizaje Reforzado - World Models y PPO.ipynb",
      "provenance": [],
      "collapsed_sections": [],
      "include_colab_link": true
    }
  },
  "cells": [
    {
      "cell_type": "markdown",
      "metadata": {
        "id": "view-in-github",
        "colab_type": "text"
      },
      "source": [
        "<a href=\"https://colab.research.google.com/github/HiroForYou/A-Hackers-AI-Voice-Assistant/blob/master/Aprendizaje_Reforzado_World_Models_y_PPO.ipynb\" target=\"_parent\"><img src=\"https://colab.research.google.com/assets/colab-badge.svg\" alt=\"Open In Colab\"/></a>"
      ]
    },
    {
      "cell_type": "markdown",
      "metadata": {
        "id": "I_Fcmsow47PE"
      },
      "source": [
        "## Práctica calificada 4\n",
        "\n",
        "* En esta tarea se evaluará todas las preguntas y no se asignará puntaje a preguntas incompletas.\n",
        "* Todo acto de COPIA implica la nota de 0A. Evita copiar!."
      ]
    },
    {
      "cell_type": "markdown",
      "metadata": {
        "id": "L-Hk1JO047PT"
      },
      "source": [
        "1. Se pueden realizar implementaciones de algoritmos de RL desde cero o haciendo uso de implementaciones de librerías y paquetes de Python, como el paquete RLlib que es parte de la librería Ray. Explica de manera suscinta y precisa que hacen los siguientes algoritmos y escoge dos de ellos y realiza su implementación (debes indicar por ejemplo cuáles son de modelos basados en RL, Q-learning, etc en tus explicaciones).\n",
        "\n",
        "    a. PPO (Proximal Policy Optimization)\n",
        "\n",
        "    b. DDPG (Deep Deterministic Policy Gradient)\n",
        "\n",
        "    c. TD3 (Twin Delayed DDPG)\n",
        "\n",
        "    d. C51 (Categorical 51-Atom DQN)\n",
        "\n",
        "    e. World Models\n",
        "\n",
        "    f. MBVE (Model-Based Value Expansion)\n",
        "\n",
        "    g. AlphaZero"
      ]
    },
    {
      "cell_type": "markdown",
      "metadata": {
        "id": "bJmMS57lWPKx"
      },
      "source": [
        "## **IMPLEMENTACIÓN DE WORLD MODELS**"
      ]
    },
    {
      "cell_type": "markdown",
      "metadata": {
        "id": "3gNC06OPZKXb"
      },
      "source": [
        "Uno de los temas principales de **Reinforcement Learning** es la complejidad de la muestra. Por lo tanto, es atractivo entrenar agentes RL en un simulador que elimina la necesidad de recoger muestras de un agente que interactúa con el mundo. World Models es un ejemplo convincente de este enfoque. La idea básica es entrenar primero un modelo que entienda el mundo y luego utilizar las características aprendidas por el modelo para entrenar a un agente o entrenar a un agente completamente dentro del modelo.\r\n",
        "\r\n",
        "<p align=\"center\">\r\n",
        "  <img src=\"https://miro.medium.com/max/730/1*QkJJSXv3o6oVx37BMzuqyg.png\" />\r\n",
        "  <p align=\"center\">\"Entender el mundo a partir de los sueños\"</p>\r\n",
        "</p>\r\n",
        "\r\n"
      ]
    },
    {
      "cell_type": "markdown",
      "metadata": {
        "id": "TN_5fk3baujT"
      },
      "source": [
        "## **Arquitectura**\r\n",
        "\r\n",
        "Hay tres componentes principales propuestos en los modelos mundiales:\r\n",
        "\r\n",
        "1.   El encoder o módulo de visión (V)\r\n",
        "2.   El modelo (M)\r\n",
        "3.   El controlador (C)\r\n",
        "\r\n",
        "*   **Encoder (V)**\r\n",
        "\r\n",
        "\r\n",
        "El encoder es un *variational autoencoder* básico que asigna imágenes desde un espacio de 64x64x3 (3 desde canales RGB) hasta un vector latente (z) de dimensión igual a 64.\r\n",
        "\r\n",
        "<p align=\"center\">\r\n",
        "  <img src=\"https://miro.medium.com/max/875/1*fJcdC8VRmWiKLNhh1IToWA.png\" />\r\n",
        "  <p align=\"center\">Arquitectura del autoencoder</p>\r\n",
        "</p>\r\n",
        "\r\n",
        "El objetivo general de un *variational autoencoder* es encontrar una representación dimensional mínima (z) de la observación. Esto se hace minimizando la pérdida de reconstrucción (primer término) con una penalización (segundo término) por moverse lejos de las creencias (**P(z)**).\r\n",
        "\r\n",
        "<p align=\"center\">\r\n",
        "  <img src=\"https://miro.medium.com/max/875/1*rNL3ZlUXiIIQQH4fkNeKwQ.png\" />\r\n",
        "  <p align=\"center\">Ecuación a minimizar</p>\r\n",
        "</p>\r\n"
      ]
    },
    {
      "cell_type": "markdown",
      "metadata": {
        "id": "BN5kiwsgc1pz"
      },
      "source": [
        "El encoder está representado por **q(z|x)** y el decoder está representado por **p(x|z**). Donde **x** es la observación en bruto.\r\n",
        "\r\n",
        "\r\n",
        "*  **Modelo(M)**\r\n",
        "\r\n",
        "El modelo es una red neuronal recurrente **Mixture Density** (MD-RNN). La MD-RNN toma **z** (definido anteriormente) como entrada y predice **π**, **μ** y **σ** a través de pasos de tiempo futuros. **π** es un vector *k-dimensional* que representa los logits de una distribución multinomial. Hay *k* diferentes **μ** y **σ** que se utilizarán para parametrizar *k* distribuciones gaussianas multidimensionales separadas.\r\n",
        "\r\n",
        "<p align=\"center\">\r\n",
        "  <img src=\"https://miro.medium.com/max/550/1*HDcyrnNO83CJQOohhvNZCQ.png\" />\r\n",
        "  <p align=\"center\">La red tomo como entrada el vector z</p>\r\n",
        "</p>"
      ]
    },
    {
      "cell_type": "markdown",
      "metadata": {
        "id": "zoA6V9rjfEp-"
      },
      "source": [
        "Para extraer una muestra de la red MD-RNN, primero tomamos muestras del parámetro multinomial parametrizado por **π** y luego la muestra se utilizaría para identificar de cuál de las distribuciones normales multidimensionales *k* vamos a muestrear.\r\n",
        "\r\n",
        "La red neuronal recurrente produce un vector de estado oculto **(h)** y un vector **(c)** de estado de celda que será útil más adelante.\r\n",
        "\r\n",
        "*  **Controlador (C)**\r\n",
        "\r\n",
        "El controlador **(C)** es responsable de decidir qué acciones tomar, en qué parte de los experimentos las acciones toman valores contínuos (sin embargo, esto podría generalizarse fácilmente en el caso discreto). Los autores hacen que **C** sea lo más simple posible para demostrar que la mayor parte de la complejidad se encuentra dentro del encoder **(v)** y el modelo **(m)**. El controlador simple es un modelo lineal de una sola capa que utiliza un algoritmo evolutivo para encontrar sus parámetros **[(CMA-ES)](https://arxiv.org/pdf/1604.00772.pdf)**.\r\n",
        "Observe que el controlador es un modelo lineal con respecto a sus entradas y **NO** la observación en bruto. \r\n",
        "\r\n",
        "Dependiendo del entorno, la entrada es una concatenación de **[observación codificada (z), vector de estado oculto (h)]** o **[una observación codificada(z), estado oculto (h), estado de celda (c)]**.\r\n",
        "\r\n",
        "\r\n",
        "*  **Entrenamiento**\r\n",
        "\r\n",
        "El esquema de entrenamiento sigue un proceso de 4 pasos después de inicializar **V**, **M** y **C**: \r\n",
        "\r\n",
        "1.   Recoge las trayectorias del controlador (**C**) \r\n",
        "2.   Utiliza las observaciones en bruto para entrenar **V**\r\n",
        "3.   Codifica las observaciones en bruto al espacio latente **z** con **V**, luego entrena **M** \r\n",
        "4.   Utiliza **z**, **h** y **c** (a veces) para entrenar el controlador (**C**)\r\n",
        "\r\n",
        "\r\n",
        "Al entrenar al controlador tenemos la opción de entrenar en el entorno real o inicializar **M** con un valor aleatorio y entrenar al controlador dentro de sus propios **\"sueños\"**. Los autores especulan que el entrenamiento dentro de entornos sintéticos no era factible en **simuladores de entorno recurrentes** o **predicciones de vídeo condicionado a alguna acción** porque el controlador fue capaz de aprovechar las imperfecciones en el modelo (**M**). Sin embargo, en este caso se introduce un parámetro de temperatura (**τ**) en la distribución multinomial que crea más aleatoriedad en las muestras del modelo (**M**). Esto es interesante porque aunque empeora el modelo, obliga al controlador a ser más robusto.\r\n",
        "\r\n",
        "La segunda opción es convincente porque facilitaría el entrenamiento de un agente en entornos **\"peligrosos\"**. Por peligroso nos referimos a entornos donde interactuar con él puede tener consecuencias catastróficas. Por ejemplo, imagine liberar un controlador inicializado aleatoriamente en la carretera abierta.\r\n",
        "\r\n",
        "Una nota final a tener en cuenta es cuando el entorno no se *explora* lo suficiente con un controlador aleatorio, esto significaría que su modelo nunca aprendería acerca de la dinámica que solo experimentará un controlador fuerte. Para navegar por este problema, los autores sugieren realizar iterativamente los 4 pasos mencionados anteriormente. Sin embargo, esto no se demostró en ninguno de los experimentos.\r\n",
        "\r\n",
        "A continuación se muestra la implementación del modelo en Pytorch usando el entorno GYM."
      ]
    },
    {
      "cell_type": "code",
      "metadata": {
        "id": "6WZCdoyn47PW",
        "colab": {
          "base_uri": "https://localhost:8080/"
        },
        "outputId": "eb94d17b-aa40-4a63-defe-6585eb468079"
      },
      "source": [
        "!git clone https://github.com/HiroForYou/RL-Algorithms.git  # descargarmos el repositorio base\r\n",
        "%cd RL-Algorithms/World-Models-PyTorch/ \r\n",
        "!ls"
      ],
      "execution_count": 1,
      "outputs": [
        {
          "output_type": "stream",
          "text": [
            "Cloning into 'RL-Algorithms'...\n",
            "remote: Enumerating objects: 31, done.\u001b[K\n",
            "remote: Counting objects: 100% (31/31), done.\u001b[K\n",
            "remote: Compressing objects: 100% (26/26), done.\u001b[K\n",
            "remote: Total 31 (delta 2), reused 31 (delta 2), pack-reused 0\u001b[K\n",
            "Unpacking objects: 100% (31/31), done.\n",
            "/content/RL-Algorithms/World-Models-PyTorch\n",
            "car_racing.py\t\t pushover.py\t sample_image.png  vae.ipynb\n",
            "generate-rollouts.ipynb  real_image.png  utils.py\t   vae.py\n",
            "generate-rollouts.py\t rollouts\t vae-cnn.ipynb\n"
          ],
          "name": "stdout"
        }
      ]
    },
    {
      "cell_type": "code",
      "metadata": {
        "colab": {
          "base_uri": "https://localhost:8080/"
        },
        "id": "__IDyNzOLbTD",
        "outputId": "62288d20-4e64-4058-9b20-b31e24e2cadf"
      },
      "source": [
        "# para correr las gráficas sin problemas necesitamos una versión de Pyglet compatible con GYM\r\n",
        "!pip uninstall pyglet     \r\n",
        "!pip install pyglet==1.3.2"
      ],
      "execution_count": 2,
      "outputs": [
        {
          "output_type": "stream",
          "text": [
            "Uninstalling pyglet-1.5.0:\n",
            "  Would remove:\n",
            "    /usr/local/lib/python3.6/dist-packages/pyglet-1.5.0.dist-info/*\n",
            "    /usr/local/lib/python3.6/dist-packages/pyglet/*\n",
            "Proceed (y/n)? y\n",
            "  Successfully uninstalled pyglet-1.5.0\n",
            "Collecting pyglet==1.3.2\n",
            "\u001b[?25l  Downloading https://files.pythonhosted.org/packages/1c/fc/dad5eaaab68f0c21e2f906a94ddb98175662cc5a654eee404d59554ce0fa/pyglet-1.3.2-py2.py3-none-any.whl (1.0MB)\n",
            "\u001b[K     |████████████████████████████████| 1.0MB 5.2MB/s \n",
            "\u001b[?25hRequirement already satisfied: future in /usr/local/lib/python3.6/dist-packages (from pyglet==1.3.2) (0.16.0)\n",
            "\u001b[31mERROR: gym 0.17.3 has requirement pyglet<=1.5.0,>=1.4.0, but you'll have pyglet 1.3.2 which is incompatible.\u001b[0m\n",
            "Installing collected packages: pyglet\n",
            "Successfully installed pyglet-1.3.2\n"
          ],
          "name": "stdout"
        }
      ]
    },
    {
      "cell_type": "code",
      "metadata": {
        "colab": {
          "base_uri": "https://localhost:8080/"
        },
        "id": "JDol57VcoghD",
        "outputId": "06e6cdd9-6c75-49e0-af06-7689e9181c2b"
      },
      "source": [
        "# instalamos otras dependencias para poder mostrar los gráficos GYM en Colab\r\n",
        "!pip install Box2D\r\n",
        "!apt-get install -y xvfb python-opengl > /dev/null 2>&1\r\n",
        "!pip install gym pyvirtualdisplay > /dev/null 2>&1"
      ],
      "execution_count": 3,
      "outputs": [
        {
          "output_type": "stream",
          "text": [
            "Collecting Box2D\n",
            "\u001b[?25l  Downloading https://files.pythonhosted.org/packages/a9/0b/d48d42dd9e19ce83a3fb4eee074e785b6c6ea612a2244dc2ef69427d338b/Box2D-2.3.10-cp36-cp36m-manylinux1_x86_64.whl (1.3MB)\n",
            "\u001b[K     |████████████████████████████████| 1.3MB 4.2MB/s \n",
            "\u001b[?25hInstalling collected packages: Box2D\n",
            "Successfully installed Box2D-2.3.10\n"
          ],
          "name": "stdout"
        }
      ]
    },
    {
      "cell_type": "code",
      "metadata": {
        "id": "YOibOWxuGvDE"
      },
      "source": [
        "import torch\r\n",
        "import torch.nn as nn\r\n",
        "import torch.nn.functional as F\r\n",
        "from torch.autograd import Variable\r\n",
        "\r\n",
        "import torchvision\r\n",
        "from torchvision import datasets\r\n",
        "from torchvision import transforms\r\n",
        "from torchvision.utils import save_image\r\n",
        "from torchsummary import summary\r\n",
        "\r\n",
        "# from pushover import notify # en caso deseemos notificar por celular\r\n",
        "from utils import makegif\r\n",
        "from random import randint\r\n",
        "\r\n",
        "from IPython.display import Image\r\n",
        "from IPython.core.display import Image, display\r\n",
        "import matplotlib.pyplot as plt\r\n",
        "\r\n",
        "\r\n",
        "%load_ext autoreload\r\n",
        "%autoreload 2"
      ],
      "execution_count": 4,
      "outputs": []
    },
    {
      "cell_type": "code",
      "metadata": {
        "colab": {
          "base_uri": "https://localhost:8080/"
        },
        "id": "zhKmGFj8HRog",
        "outputId": "cc096bff-fd7d-421b-8a46-878e3df3a18b"
      },
      "source": [
        "# configuramos el dispositivo\r\n",
        "device = torch.device('cuda' if torch.cuda.is_available() else 'cpu')\r\n",
        "device"
      ],
      "execution_count": 5,
      "outputs": [
        {
          "output_type": "execute_result",
          "data": {
            "text/plain": [
              "device(type='cpu')"
            ]
          },
          "metadata": {
            "tags": []
          },
          "execution_count": 5
        }
      ]
    },
    {
      "cell_type": "code",
      "metadata": {
        "colab": {
          "base_uri": "https://localhost:8080/"
        },
        "id": "pTbD7czJJqc1",
        "outputId": "e749a46e-462d-445b-882e-4022f57a8df4"
      },
      "source": [
        "# creamos una pantalla falsa en COLAB para mostrar la interfaz GYM\r\n",
        "from pyvirtualdisplay import Display\r\n",
        "display = Display(visible=0, size=(400, 300))\r\n",
        "display.start()"
      ],
      "execution_count": 6,
      "outputs": [
        {
          "output_type": "execute_result",
          "data": {
            "text/plain": [
              "<pyvirtualdisplay.display.Display at 0x7f99812ca4a8>"
            ]
          },
          "metadata": {
            "tags": []
          },
          "execution_count": 6
        }
      ]
    },
    {
      "cell_type": "code",
      "metadata": {
        "colab": {
          "base_uri": "https://localhost:8080/"
        },
        "id": "8_sykmnUH3PW",
        "outputId": "72c05d41-f9cc-4632-aed4-f519d5e1e57b"
      },
      "source": [
        "# generamos la imágenes que serán colocadas dentro de la carpeta creada arriba.\r\n",
        "# las imágenes van acompañas de la recompensa actual (mayor recompensa si el \r\n",
        "# coche se encuentra dentro de la línea)\r\n",
        "!pip install pyglet==1.3.2\r\n",
        "!python generate-rollouts.py"
      ],
      "execution_count": 7,
      "outputs": [
        {
          "output_type": "stream",
          "text": [
            "Collecting pyglet==1.3.2\n",
            "  Using cached https://files.pythonhosted.org/packages/1c/fc/dad5eaaab68f0c21e2f906a94ddb98175662cc5a654eee404d59554ce0fa/pyglet-1.3.2-py2.py3-none-any.whl\n",
            "Requirement already satisfied: future in /usr/local/lib/python3.6/dist-packages (from pyglet==1.3.2) (0.16.0)\n",
            "\u001b[31mERROR: gym 0.17.3 has requirement pyglet<=1.5.0,>=1.4.0, but you'll have pyglet 1.3.2 which is incompatible.\u001b[0m\n",
            "Installing collected packages: pyglet\n",
            "  Found existing installation: pyglet 1.5.0\n",
            "    Uninstalling pyglet-1.5.0:\n",
            "      Successfully uninstalled pyglet-1.5.0\n",
            "Successfully installed pyglet-1.3.2\n",
            "/usr/local/lib/python3.6/dist-packages/gym/logger.py:30: UserWarning: \u001b[33mWARN: Box bound precision lowered by casting to float32\u001b[0m\n",
            "  warnings.warn(colorize('%s: %s'%('WARN', msg % args), 'yellow'))\n",
            "Episode [1/100]: CummReward 6.13\n",
            "Episode [2/100]: CummReward 37.82\n",
            "Episode [3/100]: CummReward 3.07\n",
            "Episode [4/100]: CummReward 35.36\n",
            "Episode [5/100]: CummReward 15.72\n",
            "Episode [6/100]: CummReward 12.95\n",
            "Episode [7/100]: CummReward 9.39\n",
            "Episode [8/100]: CummReward 11.06\n",
            "Episode [9/100]: CummReward 9.69\n",
            "Episode [10/100]: CummReward 6.54\n",
            "Episode [11/100]: CummReward 6.08\n",
            "Episode [12/100]: CummReward 3.35\n",
            "Episode [13/100]: CummReward 93.11\n",
            "Episode [14/100]: CummReward 12.21\n",
            "retry to generate track (normal if there are not many of this messages)\n",
            "Episode [15/100]: CummReward 4.35\n",
            "Episode [16/100]: CummReward 6.47\n",
            "Episode [17/100]: CummReward 6.51\n",
            "Episode [18/100]: CummReward 16.13\n",
            "Episode [19/100]: CummReward 22.34\n",
            "Episode [20/100]: CummReward 5.59\n",
            "Episode [21/100]: CummReward 5.55\n",
            "Episode [22/100]: CummReward 15.00\n",
            "Episode [23/100]: CummReward 10.18\n",
            "Episode [24/100]: CummReward 9.48\n",
            "Episode [25/100]: CummReward 5.69\n",
            "Episode [26/100]: CummReward 19.22\n",
            "Episode [27/100]: CummReward 8.33\n",
            "Episode [28/100]: CummReward 3.52\n",
            "retry to generate track (normal if there are not many of this messages)\n",
            "Episode [29/100]: CummReward 5.27\n",
            "Episode [30/100]: CummReward 5.13\n",
            "Episode [31/100]: CummReward 21.30\n",
            "Episode [32/100]: CummReward 4.87\n",
            "retry to generate track (normal if there are not many of this messages)\n",
            "Episode [33/100]: CummReward 28.77\n",
            "Episode [34/100]: CummReward 14.29\n",
            "retry to generate track (normal if there are not many of this messages)\n",
            "Episode [35/100]: CummReward 11.12\n",
            "Episode [36/100]: CummReward 14.70\n",
            "Episode [37/100]: CummReward 5.33\n",
            "Episode [38/100]: CummReward 8.90\n",
            "Episode [39/100]: CummReward 30.94\n",
            "Episode [40/100]: CummReward 16.25\n",
            "Episode [41/100]: CummReward 26.04\n",
            "Episode [42/100]: CummReward 9.65\n",
            "Episode [43/100]: CummReward 17.13\n",
            "Episode [44/100]: CummReward 22.88\n",
            "Episode [45/100]: CummReward -0.03\n",
            "Episode [46/100]: CummReward 15.51\n",
            "Episode [47/100]: CummReward 8.33\n",
            "Episode [48/100]: CummReward 26.14\n",
            "Episode [49/100]: CummReward 2.60\n",
            "Episode [50/100]: CummReward 17.54\n",
            "Episode [51/100]: CummReward 13.37\n",
            "Episode [52/100]: CummReward 10.64\n",
            "Episode [53/100]: CummReward 12.59\n",
            "Episode [54/100]: CummReward 13.78\n",
            "Episode [55/100]: CummReward 3.13\n",
            "retry to generate track (normal if there are not many of this messages)\n",
            "Episode [56/100]: CummReward 23.19\n",
            "Episode [57/100]: CummReward 17.79\n",
            "Episode [58/100]: CummReward 16.80\n",
            "retry to generate track (normal if there are not many of this messages)\n",
            "retry to generate track (normal if there are not many of this messages)\n",
            "Episode [59/100]: CummReward 5.83\n",
            "Episode [60/100]: CummReward 19.97\n",
            "Episode [61/100]: CummReward 16.25\n",
            "Episode [62/100]: CummReward 7.51\n",
            "Episode [63/100]: CummReward 8.18\n",
            "Episode [64/100]: CummReward 13.27\n",
            "Episode [65/100]: CummReward 3.99\n",
            "Episode [66/100]: CummReward 10.93\n",
            "Episode [67/100]: CummReward 7.65\n",
            "Episode [68/100]: CummReward 8.81\n",
            "Episode [69/100]: CummReward 6.58\n",
            "Episode [70/100]: CummReward 8.10\n",
            "Episode [71/100]: CummReward 14.61\n",
            "Episode [72/100]: CummReward 12.03\n",
            "Episode [73/100]: CummReward 0.82\n",
            "Episode [74/100]: CummReward 8.88\n",
            "Episode [75/100]: CummReward 7.01\n",
            "Episode [76/100]: CummReward 8.81\n",
            "Episode [77/100]: CummReward 7.80\n",
            "Episode [78/100]: CummReward 19.35\n",
            "Episode [79/100]: CummReward 2.06\n",
            "Episode [80/100]: CummReward 3.52\n",
            "Episode [81/100]: CummReward 10.45\n",
            "Episode [82/100]: CummReward 11.76\n",
            "Episode [83/100]: CummReward 7.01\n",
            "Episode [84/100]: CummReward 4.87\n",
            "Episode [85/100]: CummReward 4.80\n",
            "Episode [86/100]: CummReward 23.46\n",
            "Episode [87/100]: CummReward 3.69\n",
            "Episode [88/100]: CummReward 11.85\n",
            "Episode [89/100]: CummReward 15.53\n",
            "Episode [90/100]: CummReward 16.03\n",
            "Episode [91/100]: CummReward 11.32\n",
            "Episode [92/100]: CummReward 9.82\n",
            "Episode [93/100]: CummReward 9.91\n",
            "Episode [94/100]: CummReward 14.41\n",
            "Episode [95/100]: CummReward 3.99\n",
            "Episode [96/100]: CummReward 4.61\n",
            "Episode [97/100]: CummReward 10.64\n",
            "Episode [98/100]: CummReward 13.37\n",
            "Episode [99/100]: CummReward 41.34\n",
            "Episode [100/100]: CummReward 5.47\n"
          ],
          "name": "stdout"
        }
      ]
    },
    {
      "cell_type": "code",
      "metadata": {
        "colab": {
          "base_uri": "https://localhost:8080/"
        },
        "id": "mIxz748GHg1F",
        "outputId": "4ef8c86b-ca0b-4854-ef05-0ae6413ee0da"
      },
      "source": [
        "bs = 32 # tamaño del batch \r\n",
        "\r\n",
        "# Cargamos los datos recién creados\r\n",
        "dataset = datasets.ImageFolder(root='./rollouts', transform=transforms.Compose([\r\n",
        "    transforms.Resize(64),\r\n",
        "    transforms.ToTensor(), \r\n",
        "]))\r\n",
        "dataloader = torch.utils.data.DataLoader(dataset, batch_size=bs, shuffle=True)\r\n",
        "len(dataset.imgs), len(dataloader)"
      ],
      "execution_count": 8,
      "outputs": [
        {
          "output_type": "execute_result",
          "data": {
            "text/plain": [
              "(3000, 94)"
            ]
          },
          "metadata": {
            "tags": []
          },
          "execution_count": 8
        }
      ]
    },
    {
      "cell_type": "code",
      "metadata": {
        "colab": {
          "base_uri": "https://localhost:8080/",
          "height": 283
        },
        "id": "e1vDPoxHNmDH",
        "outputId": "4268b565-9b2a-4d05-c217-5da925751b92"
      },
      "source": [
        "# fijamos la entrada para su análisis\r\n",
        "fixed_x, _ = next(iter(dataloader))\r\n",
        "save_image(fixed_x, 'real_image.png')\r\n",
        "\r\n",
        "Image('real_image.png')"
      ],
      "execution_count": 9,
      "outputs": [
        {
          "output_type": "execute_result",
          "data": {
            "image/png": "[encoded data removed]",
            "text/plain": [
              "<IPython.core.display.Image object>"
            ]
          },
          "metadata": {
            "tags": []
          },
          "execution_count": 9
        }
      ]
    },
    {
      "cell_type": "code",
      "metadata": {
        "id": "UiU_JzLxNsG5"
      },
      "source": [
        "# esta clase será útil para aplanar un tensor a forma unidimensional\r\n",
        "class Flatten(nn.Module):\r\n",
        "    def forward(self, input):\r\n",
        "        return input.view(input.size(0), -1)"
      ],
      "execution_count": 10,
      "outputs": []
    },
    {
      "cell_type": "code",
      "metadata": {
        "id": "KIbLNFmYNych"
      },
      "source": [
        "# esta clase será útil para restaurar un tensor unidimensional a su forma \r\n",
        "# original\r\n",
        "class UnFlatten(nn.Module):\r\n",
        "    def forward(self, input, size=1024):\r\n",
        "        return input.view(input.size(0), size, 1, 1)"
      ],
      "execution_count": 11,
      "outputs": []
    },
    {
      "cell_type": "code",
      "metadata": {
        "id": "E-iuPmJDN6Ph"
      },
      "source": [
        "# creamos el autoencoder como se definió en la parte teórica\r\n",
        "class VAE(nn.Module):\r\n",
        "    def __init__(self, image_channels=3, h_dim=1024, z_dim=32):\r\n",
        "        super(VAE, self).__init__()\r\n",
        "        self.encoder = nn.Sequential(\r\n",
        "            nn.Conv2d(image_channels, 32, kernel_size=4, stride=2),\r\n",
        "            nn.ReLU(),\r\n",
        "            nn.Conv2d(32, 64, kernel_size=4, stride=2),\r\n",
        "            nn.ReLU(),\r\n",
        "            nn.Conv2d(64, 128, kernel_size=4, stride=2),\r\n",
        "            nn.ReLU(),\r\n",
        "            nn.Conv2d(128, 256, kernel_size=4, stride=2),\r\n",
        "            nn.ReLU(),\r\n",
        "            Flatten()\r\n",
        "        )\r\n",
        "        \r\n",
        "        self.fc1 = nn.Linear(h_dim, z_dim)\r\n",
        "        self.fc2 = nn.Linear(h_dim, z_dim)\r\n",
        "        self.fc3 = nn.Linear(z_dim, h_dim)\r\n",
        "        \r\n",
        "        self.decoder = nn.Sequential(\r\n",
        "            UnFlatten(),\r\n",
        "            nn.ConvTranspose2d(h_dim, 128, kernel_size=5, stride=2),\r\n",
        "            nn.ReLU(),\r\n",
        "            nn.ConvTranspose2d(128, 64, kernel_size=5, stride=2),\r\n",
        "            nn.ReLU(),\r\n",
        "            nn.ConvTranspose2d(64, 32, kernel_size=6, stride=2),\r\n",
        "            nn.ReLU(),\r\n",
        "            nn.ConvTranspose2d(32, image_channels, kernel_size=6, stride=2),\r\n",
        "            nn.Sigmoid(),\r\n",
        "        )\r\n",
        "        \r\n",
        "    def reparameterize(self, mu, logvar):\r\n",
        "        std = logvar.mul(0.5).exp_()\r\n",
        "        # return torch.normal(mu, std)\r\n",
        "        esp = torch.randn(*mu.size())\r\n",
        "        z = mu + std * esp\r\n",
        "        return z\r\n",
        "    \r\n",
        "    def bottleneck(self, h):\r\n",
        "        mu, logvar = self.fc1(h), self.fc2(h)\r\n",
        "        z = self.reparameterize(mu, logvar)\r\n",
        "        return z, mu, logvar\r\n",
        "\r\n",
        "    def encode(self, x):\r\n",
        "        h = self.encoder(x)\r\n",
        "        z, mu, logvar = self.bottleneck(h)\r\n",
        "        return z, mu, logvar\r\n",
        "\r\n",
        "    def decode(self, z):\r\n",
        "        z = self.fc3(z)\r\n",
        "        z = self.decoder(z)\r\n",
        "        return z\r\n",
        "\r\n",
        "    def forward(self, x):\r\n",
        "        z, mu, logvar = self.encode(x)\r\n",
        "        z = self.decode(z)\r\n",
        "        return z, mu, logvar"
      ],
      "execution_count": 12,
      "outputs": []
    },
    {
      "cell_type": "code",
      "metadata": {
        "id": "yeONwic-N7ti"
      },
      "source": [
        "image_channels = fixed_x.size(1)\r\n"
      ],
      "execution_count": 13,
      "outputs": []
    },
    {
      "cell_type": "code",
      "metadata": {
        "id": "pKxk-jzZOBXJ"
      },
      "source": [
        "# instanciamos el autoencoder\r\n",
        "\r\n",
        "#vae = VAE(image_channels=image_channels).to(device)\r\n",
        "vae = VAE(image_channels=image_channels).to(device)\r\n",
        "#vae.load_state_dict(torch.load('vae.torch', map_location='cpu'))   # en caso ya tenga los pesos creados"
      ],
      "execution_count": 14,
      "outputs": []
    },
    {
      "cell_type": "code",
      "metadata": {
        "id": "RjyLw99ROEUS"
      },
      "source": [
        "# en este caso usamos el optimizador ADAM para poder encontrar los parámetros \r\n",
        "# óptimo de la función de coste principal definida en la parte teórica\r\n",
        "\r\n",
        "optimizer = torch.optim.Adam(vae.parameters(), lr=1e-3)"
      ],
      "execution_count": 15,
      "outputs": []
    },
    {
      "cell_type": "code",
      "metadata": {
        "id": "dMWttWu3OIxa"
      },
      "source": [
        "# implementamos de la función de coste detallada en la parte teórica\r\n",
        "def loss_fn(recon_x, x, mu, logvar):\r\n",
        "\r\n",
        "    BCE = F.binary_cross_entropy(recon_x, x, size_average=False)\r\n",
        "    # BCE = F.mse_loss(recon_x, x, size_average=False)\r\n",
        "\r\n",
        "    KLD = -0.5 * torch.mean(1 + logvar - mu.pow(2) - logvar.exp())\r\n",
        "\r\n",
        "    return BCE + KLD, BCE, KLD"
      ],
      "execution_count": 16,
      "outputs": []
    },
    {
      "cell_type": "code",
      "metadata": {
        "id": "YCnQNkEEOK7B"
      },
      "source": [
        "# en esta carpeta almacenaremos las imágenes reconstruidas del escenario,\r\n",
        "# a partir de los 'sueños' del agente\r\n",
        "\r\n",
        "!rm -rfr reconstructed\r\n",
        "!mkdir reconstructed"
      ],
      "execution_count": 17,
      "outputs": []
    },
    {
      "cell_type": "code",
      "metadata": {
        "colab": {
          "base_uri": "https://localhost:8080/"
        },
        "id": "u0wam0QyON-D",
        "outputId": "3ee76627-b4f8-48ae-998b-f3dcc80b1e73"
      },
      "source": [
        "# ejecutamos el entrenamiento solo para 5 épocas porque toma tiempo\r\n",
        "epochs = 5\r\n",
        "\r\n",
        "for epoch in range(epochs):\r\n",
        "    for idx, (images, _) in enumerate(dataloader):\r\n",
        "        recon_images, mu, logvar = vae(images)\r\n",
        "        loss, bce, kld = loss_fn(recon_images, images, mu, logvar)\r\n",
        "        optimizer.zero_grad()\r\n",
        "        loss.backward()\r\n",
        "        optimizer.step()\r\n",
        "\r\n",
        "        to_print = \"Epoca[{}/{}] Loss: {:.3f} {:.3f} {:.3f}\".format(epoch+1, \r\n",
        "                                epochs, loss.item()/bs, bce.item()/bs, kld.item()/bs)\r\n",
        "        print(to_print)\r\n",
        "\r\n",
        "# notificamos por android la finalización del entrenamiento\r\n",
        "# notify(to_print, priority=1)\r\n",
        "\r\n",
        "\r\n",
        "# guardamos el modelo para poder hacer la inferencia\r\n",
        "torch.save(vae.state_dict(), 'vae.torch')"
      ],
      "execution_count": 18,
      "outputs": [
        {
          "output_type": "stream",
          "text": [
            "/usr/local/lib/python3.6/dist-packages/torch/nn/_reduction.py:44: UserWarning: size_average and reduce args will be deprecated, please use reduction='sum' instead.\n",
            "  warnings.warn(warning.format(ret))\n"
          ],
          "name": "stderr"
        },
        {
          "output_type": "stream",
          "text": [
            "Epoca[1/5] Loss: 8474.553 8474.553 0.000\n",
            "Epoca[1/5] Loss: 8444.570 8444.570 0.000\n",
            "Epoca[1/5] Loss: 8353.003 8353.002 0.001\n",
            "Epoca[1/5] Loss: 8320.265 8320.251 0.014\n",
            "Epoca[1/5] Loss: 8187.921 8187.919 0.003\n",
            "Epoca[1/5] Loss: 8182.948 8182.947 0.001\n",
            "Epoca[1/5] Loss: 8106.377 8106.377 0.001\n",
            "Epoca[1/5] Loss: 8037.938 8037.937 0.001\n",
            "Epoca[1/5] Loss: 8090.505 8090.505 0.001\n",
            "Epoca[1/5] Loss: 8004.879 8004.878 0.001\n",
            "Epoca[1/5] Loss: 8021.161 8021.161 0.000\n",
            "Epoca[1/5] Loss: 7975.412 7975.412 0.000\n",
            "Epoca[1/5] Loss: 7967.077 7967.077 0.001\n",
            "Epoca[1/5] Loss: 7910.482 7910.481 0.001\n",
            "Epoca[1/5] Loss: 7884.644 7884.642 0.002\n",
            "Epoca[1/5] Loss: 7856.095 7856.091 0.003\n",
            "Epoca[1/5] Loss: 7885.331 7885.326 0.005\n",
            "Epoca[1/5] Loss: 7823.820 7823.816 0.004\n",
            "Epoca[1/5] Loss: 7773.064 7773.060 0.004\n",
            "Epoca[1/5] Loss: 7731.350 7731.343 0.007\n",
            "Epoca[1/5] Loss: 7635.578 7635.565 0.013\n",
            "Epoca[1/5] Loss: 7624.021 7624.001 0.020\n",
            "Epoca[1/5] Loss: 7541.068 7541.052 0.016\n",
            "Epoca[1/5] Loss: 7491.818 7491.804 0.015\n",
            "Epoca[1/5] Loss: 7417.251 7417.231 0.020\n",
            "Epoca[1/5] Loss: 7394.336 7394.302 0.034\n",
            "Epoca[1/5] Loss: 7329.406 7329.368 0.038\n",
            "Epoca[1/5] Loss: 7244.434 7244.402 0.031\n",
            "Epoca[1/5] Loss: 7257.146 7257.114 0.031\n",
            "Epoca[1/5] Loss: 7271.053 7271.016 0.037\n",
            "Epoca[1/5] Loss: 7199.651 7199.607 0.044\n",
            "Epoca[1/5] Loss: 7178.720 7178.676 0.043\n",
            "Epoca[1/5] Loss: 7163.826 7163.788 0.039\n",
            "Epoca[1/5] Loss: 7171.885 7171.850 0.035\n",
            "Epoca[1/5] Loss: 7204.130 7204.095 0.035\n",
            "Epoca[1/5] Loss: 7173.153 7173.117 0.035\n",
            "Epoca[1/5] Loss: 7126.400 7126.364 0.037\n",
            "Epoca[1/5] Loss: 7112.737 7112.700 0.037\n",
            "Epoca[1/5] Loss: 7111.651 7111.612 0.039\n",
            "Epoca[1/5] Loss: 7131.495 7131.457 0.038\n",
            "Epoca[1/5] Loss: 7116.821 7116.786 0.036\n",
            "Epoca[1/5] Loss: 7055.317 7055.280 0.037\n",
            "Epoca[1/5] Loss: 7116.761 7116.721 0.040\n",
            "Epoca[1/5] Loss: 7076.240 7076.200 0.040\n",
            "Epoca[1/5] Loss: 7075.312 7075.274 0.037\n",
            "Epoca[1/5] Loss: 7072.344 7072.306 0.037\n",
            "Epoca[1/5] Loss: 7004.245 7004.201 0.044\n",
            "Epoca[1/5] Loss: 7105.498 7105.452 0.046\n",
            "Epoca[1/5] Loss: 7080.776 7080.738 0.038\n",
            "Epoca[1/5] Loss: 7065.426 7065.391 0.036\n",
            "Epoca[1/5] Loss: 7058.746 7058.704 0.042\n",
            "Epoca[1/5] Loss: 7101.243 7101.198 0.045\n",
            "Epoca[1/5] Loss: 7056.981 7056.941 0.041\n",
            "Epoca[1/5] Loss: 7087.057 7087.021 0.037\n",
            "Epoca[1/5] Loss: 7069.262 7069.224 0.037\n",
            "Epoca[1/5] Loss: 7055.426 7055.383 0.043\n",
            "Epoca[1/5] Loss: 6999.743 6999.700 0.043\n",
            "Epoca[1/5] Loss: 7024.101 7024.059 0.042\n",
            "Epoca[1/5] Loss: 7012.809 7012.766 0.043\n",
            "Epoca[1/5] Loss: 7055.412 7055.370 0.042\n",
            "Epoca[1/5] Loss: 7077.008 7076.968 0.041\n",
            "Epoca[1/5] Loss: 7040.434 7040.392 0.042\n",
            "Epoca[1/5] Loss: 7072.936 7072.893 0.042\n",
            "Epoca[1/5] Loss: 7023.921 7023.876 0.045\n",
            "Epoca[1/5] Loss: 7041.767 7041.722 0.046\n",
            "Epoca[1/5] Loss: 7044.193 7044.147 0.046\n",
            "Epoca[1/5] Loss: 7021.944 7021.899 0.046\n",
            "Epoca[1/5] Loss: 7081.871 7081.825 0.046\n",
            "Epoca[1/5] Loss: 7004.821 7004.776 0.045\n",
            "Epoca[1/5] Loss: 7089.545 7089.496 0.049\n",
            "Epoca[1/5] Loss: 6993.138 6993.088 0.049\n",
            "Epoca[1/5] Loss: 6960.200 6960.149 0.051\n",
            "Epoca[1/5] Loss: 7026.577 7026.520 0.057\n",
            "Epoca[1/5] Loss: 7008.233 7008.183 0.051\n",
            "Epoca[1/5] Loss: 7000.194 7000.146 0.049\n",
            "Epoca[1/5] Loss: 7083.790 7083.739 0.051\n",
            "Epoca[1/5] Loss: 7038.009 7037.959 0.050\n",
            "Epoca[1/5] Loss: 6982.291 6982.238 0.053\n",
            "Epoca[1/5] Loss: 6953.009 6952.948 0.061\n",
            "Epoca[1/5] Loss: 7045.303 7045.238 0.064\n",
            "Epoca[1/5] Loss: 7044.428 7044.376 0.052\n",
            "Epoca[1/5] Loss: 7031.906 7031.856 0.050\n",
            "Epoca[1/5] Loss: 7028.854 7028.795 0.059\n",
            "Epoca[1/5] Loss: 7024.682 7024.613 0.069\n",
            "Epoca[1/5] Loss: 6995.221 6995.159 0.062\n",
            "Epoca[1/5] Loss: 6982.867 6982.812 0.055\n",
            "Epoca[1/5] Loss: 6962.026 6961.962 0.064\n",
            "Epoca[1/5] Loss: 6975.954 6975.883 0.071\n",
            "Epoca[1/5] Loss: 7018.820 7018.756 0.064\n",
            "Epoca[1/5] Loss: 7053.790 7053.735 0.055\n",
            "Epoca[1/5] Loss: 7004.832 7004.775 0.057\n",
            "Epoca[1/5] Loss: 6953.475 6953.403 0.072\n",
            "Epoca[1/5] Loss: 7023.082 7023.003 0.078\n",
            "Epoca[1/5] Loss: 5221.919 5221.853 0.066\n",
            "Epoca[2/5] Loss: 7015.850 7015.792 0.057\n",
            "Epoca[2/5] Loss: 6996.790 6996.725 0.065\n",
            "Epoca[2/5] Loss: 6998.842 6998.762 0.080\n",
            "Epoca[2/5] Loss: 6966.602 6966.524 0.077\n",
            "Epoca[2/5] Loss: 6966.051 6965.984 0.067\n",
            "Epoca[2/5] Loss: 6969.398 6969.331 0.067\n",
            "Epoca[2/5] Loss: 7003.932 7003.857 0.075\n",
            "Epoca[2/5] Loss: 6971.350 6971.273 0.076\n",
            "Epoca[2/5] Loss: 6970.988 6970.918 0.070\n",
            "Epoca[2/5] Loss: 6957.026 6956.958 0.067\n",
            "Epoca[2/5] Loss: 6966.129 6966.053 0.076\n",
            "Epoca[2/5] Loss: 6967.559 6967.481 0.077\n",
            "Epoca[2/5] Loss: 6993.754 6993.682 0.072\n",
            "Epoca[2/5] Loss: 6941.622 6941.560 0.062\n",
            "Epoca[2/5] Loss: 6977.864 6977.788 0.076\n",
            "Epoca[2/5] Loss: 6967.521 6967.440 0.081\n",
            "Epoca[2/5] Loss: 7004.915 7004.848 0.067\n",
            "Epoca[2/5] Loss: 6966.280 6966.216 0.064\n",
            "Epoca[2/5] Loss: 6984.906 6984.836 0.070\n",
            "Epoca[2/5] Loss: 6974.925 6974.849 0.076\n",
            "Epoca[2/5] Loss: 6959.442 6959.369 0.073\n",
            "Epoca[2/5] Loss: 6956.711 6956.646 0.066\n",
            "Epoca[2/5] Loss: 6989.703 6989.639 0.065\n",
            "Epoca[2/5] Loss: 6976.031 6975.961 0.070\n",
            "Epoca[2/5] Loss: 6939.125 6939.052 0.073\n",
            "Epoca[2/5] Loss: 6968.260 6968.188 0.072\n",
            "Epoca[2/5] Loss: 6982.483 6982.415 0.068\n",
            "Epoca[2/5] Loss: 6976.204 6976.137 0.067\n",
            "Epoca[2/5] Loss: 6994.352 6994.283 0.069\n",
            "Epoca[2/5] Loss: 6953.795 6953.724 0.072\n",
            "Epoca[2/5] Loss: 6967.998 6967.930 0.068\n",
            "Epoca[2/5] Loss: 6963.160 6963.095 0.064\n",
            "Epoca[2/5] Loss: 7019.904 7019.836 0.068\n",
            "Epoca[2/5] Loss: 6959.386 6959.319 0.066\n",
            "Epoca[2/5] Loss: 6993.457 6993.393 0.064\n",
            "Epoca[2/5] Loss: 7000.587 7000.520 0.068\n",
            "Epoca[2/5] Loss: 6950.377 6950.309 0.069\n",
            "Epoca[2/5] Loss: 6925.444 6925.375 0.069\n",
            "Epoca[2/5] Loss: 6946.485 6946.411 0.074\n",
            "Epoca[2/5] Loss: 6986.765 6986.701 0.064\n",
            "Epoca[2/5] Loss: 6979.793 6979.733 0.060\n",
            "Epoca[2/5] Loss: 6967.553 6967.489 0.063\n",
            "Epoca[2/5] Loss: 6977.916 6977.846 0.070\n",
            "Epoca[2/5] Loss: 6946.656 6946.590 0.066\n",
            "Epoca[2/5] Loss: 6926.128 6926.064 0.064\n",
            "Epoca[2/5] Loss: 6958.473 6958.399 0.073\n",
            "Epoca[2/5] Loss: 6920.538 6920.462 0.075\n",
            "Epoca[2/5] Loss: 6957.219 6957.157 0.062\n",
            "Epoca[2/5] Loss: 6975.168 6975.102 0.066\n",
            "Epoca[2/5] Loss: 6943.223 6943.146 0.077\n",
            "Epoca[2/5] Loss: 6967.852 6967.787 0.065\n",
            "Epoca[2/5] Loss: 6979.563 6979.498 0.065\n",
            "Epoca[2/5] Loss: 6940.638 6940.558 0.080\n",
            "Epoca[2/5] Loss: 6954.520 6954.440 0.079\n",
            "Epoca[2/5] Loss: 6906.427 6906.354 0.072\n",
            "Epoca[2/5] Loss: 6952.407 6952.324 0.082\n",
            "Epoca[2/5] Loss: 6985.242 6985.158 0.085\n",
            "Epoca[2/5] Loss: 6970.708 6970.632 0.075\n",
            "Epoca[2/5] Loss: 6926.746 6926.661 0.085\n",
            "Epoca[2/5] Loss: 6897.279 6897.175 0.104\n",
            "Epoca[2/5] Loss: 6931.900 6931.804 0.097\n",
            "Epoca[2/5] Loss: 6913.701 6913.608 0.092\n",
            "Epoca[2/5] Loss: 6892.849 6892.742 0.107\n",
            "Epoca[2/5] Loss: 6921.675 6921.572 0.103\n",
            "Epoca[2/5] Loss: 6890.280 6890.176 0.104\n",
            "Epoca[2/5] Loss: 6919.814 6919.721 0.093\n",
            "Epoca[2/5] Loss: 6894.513 6894.409 0.103\n",
            "Epoca[2/5] Loss: 6911.338 6911.229 0.108\n",
            "Epoca[2/5] Loss: 6921.655 6921.547 0.109\n",
            "Epoca[2/5] Loss: 6910.317 6910.221 0.097\n",
            "Epoca[2/5] Loss: 6943.773 6943.676 0.097\n",
            "Epoca[2/5] Loss: 6920.485 6920.379 0.106\n",
            "Epoca[2/5] Loss: 6932.308 6932.206 0.102\n",
            "Epoca[2/5] Loss: 6888.513 6888.410 0.103\n",
            "Epoca[2/5] Loss: 6855.261 6855.151 0.109\n",
            "Epoca[2/5] Loss: 6930.919 6930.812 0.107\n",
            "Epoca[2/5] Loss: 6967.410 6967.317 0.092\n",
            "Epoca[2/5] Loss: 6903.920 6903.827 0.093\n",
            "Epoca[2/5] Loss: 6916.677 6916.573 0.104\n",
            "Epoca[2/5] Loss: 6933.741 6933.633 0.108\n",
            "Epoca[2/5] Loss: 6905.634 6905.525 0.109\n",
            "Epoca[2/5] Loss: 6870.151 6870.044 0.107\n",
            "Epoca[2/5] Loss: 6915.861 6915.763 0.098\n",
            "Epoca[2/5] Loss: 6912.855 6912.749 0.106\n",
            "Epoca[2/5] Loss: 6907.721 6907.621 0.101\n",
            "Epoca[2/5] Loss: 6921.795 6921.694 0.101\n",
            "Epoca[2/5] Loss: 6910.615 6910.515 0.100\n",
            "Epoca[2/5] Loss: 6934.899 6934.792 0.107\n",
            "Epoca[2/5] Loss: 6886.068 6885.952 0.116\n",
            "Epoca[2/5] Loss: 6951.503 6951.396 0.107\n",
            "Epoca[2/5] Loss: 6922.674 6922.569 0.105\n",
            "Epoca[2/5] Loss: 6893.352 6893.238 0.114\n",
            "Epoca[2/5] Loss: 6901.876 6901.757 0.120\n",
            "Epoca[2/5] Loss: 5177.641 5177.527 0.114\n",
            "Epoca[3/5] Loss: 6878.884 6878.775 0.109\n",
            "Epoca[3/5] Loss: 6889.845 6889.729 0.116\n",
            "Epoca[3/5] Loss: 6892.572 6892.452 0.120\n",
            "Epoca[3/5] Loss: 6904.895 6904.807 0.088\n",
            "Epoca[3/5] Loss: 6898.318 6898.212 0.106\n",
            "Epoca[3/5] Loss: 6922.440 6922.329 0.112\n",
            "Epoca[3/5] Loss: 6876.322 6876.221 0.101\n",
            "Epoca[3/5] Loss: 6904.161 6904.053 0.108\n",
            "Epoca[3/5] Loss: 6883.949 6883.830 0.119\n",
            "Epoca[3/5] Loss: 6872.819 6872.704 0.115\n",
            "Epoca[3/5] Loss: 6910.386 6910.276 0.110\n",
            "Epoca[3/5] Loss: 6892.710 6892.591 0.119\n",
            "Epoca[3/5] Loss: 6848.455 6848.329 0.125\n",
            "Epoca[3/5] Loss: 6893.430 6893.316 0.114\n",
            "Epoca[3/5] Loss: 6866.242 6866.129 0.113\n",
            "Epoca[3/5] Loss: 6862.434 6862.316 0.118\n",
            "Epoca[3/5] Loss: 6851.733 6851.611 0.122\n",
            "Epoca[3/5] Loss: 6882.361 6882.237 0.124\n",
            "Epoca[3/5] Loss: 6875.550 6875.433 0.118\n",
            "Epoca[3/5] Loss: 6869.289 6869.167 0.123\n",
            "Epoca[3/5] Loss: 6879.766 6879.641 0.125\n",
            "Epoca[3/5] Loss: 6870.639 6870.513 0.126\n",
            "Epoca[3/5] Loss: 6872.167 6872.045 0.122\n",
            "Epoca[3/5] Loss: 6840.806 6840.676 0.130\n",
            "Epoca[3/5] Loss: 6843.438 6843.303 0.135\n",
            "Epoca[3/5] Loss: 6872.655 6872.529 0.126\n",
            "Epoca[3/5] Loss: 6883.670 6883.544 0.126\n",
            "Epoca[3/5] Loss: 6860.088 6859.952 0.136\n",
            "Epoca[3/5] Loss: 6865.235 6865.102 0.134\n",
            "Epoca[3/5] Loss: 6855.466 6855.332 0.134\n",
            "Epoca[3/5] Loss: 6849.328 6849.185 0.143\n",
            "Epoca[3/5] Loss: 6852.225 6852.090 0.135\n",
            "Epoca[3/5] Loss: 6903.889 6903.752 0.137\n",
            "Epoca[3/5] Loss: 6856.653 6856.521 0.132\n",
            "Epoca[3/5] Loss: 6840.543 6840.393 0.151\n",
            "Epoca[3/5] Loss: 6872.890 6872.755 0.135\n",
            "Epoca[3/5] Loss: 6846.626 6846.486 0.140\n",
            "Epoca[3/5] Loss: 6840.131 6839.981 0.150\n",
            "Epoca[3/5] Loss: 6856.744 6856.599 0.146\n",
            "Epoca[3/5] Loss: 6850.212 6850.079 0.134\n",
            "Epoca[3/5] Loss: 6862.292 6862.142 0.149\n",
            "Epoca[3/5] Loss: 6854.375 6854.230 0.145\n",
            "Epoca[3/5] Loss: 6825.838 6825.693 0.145\n",
            "Epoca[3/5] Loss: 6845.420 6845.266 0.154\n",
            "Epoca[3/5] Loss: 6840.777 6840.621 0.156\n",
            "Epoca[3/5] Loss: 6855.352 6855.204 0.148\n",
            "Epoca[3/5] Loss: 6833.918 6833.770 0.148\n",
            "Epoca[3/5] Loss: 6817.136 6816.990 0.146\n",
            "Epoca[3/5] Loss: 6816.883 6816.720 0.164\n",
            "Epoca[3/5] Loss: 6818.622 6818.469 0.152\n",
            "Epoca[3/5] Loss: 6844.010 6843.859 0.151\n",
            "Epoca[3/5] Loss: 6841.134 6840.967 0.167\n",
            "Epoca[3/5] Loss: 6861.545 6861.395 0.151\n",
            "Epoca[3/5] Loss: 6834.110 6833.957 0.154\n",
            "Epoca[3/5] Loss: 6859.428 6859.276 0.151\n",
            "Epoca[3/5] Loss: 6871.411 6871.256 0.155\n",
            "Epoca[3/5] Loss: 6861.460 6861.300 0.161\n",
            "Epoca[3/5] Loss: 6826.883 6826.713 0.170\n",
            "Epoca[3/5] Loss: 6818.884 6818.713 0.171\n",
            "Epoca[3/5] Loss: 6824.422 6824.261 0.162\n",
            "Epoca[3/5] Loss: 6836.604 6836.446 0.158\n",
            "Epoca[3/5] Loss: 6854.254 6854.099 0.155\n",
            "Epoca[3/5] Loss: 6854.701 6854.529 0.172\n",
            "Epoca[3/5] Loss: 6825.049 6824.884 0.165\n",
            "Epoca[3/5] Loss: 6861.885 6861.724 0.161\n",
            "Epoca[3/5] Loss: 6825.212 6825.042 0.171\n",
            "Epoca[3/5] Loss: 6833.362 6833.192 0.170\n",
            "Epoca[3/5] Loss: 6836.296 6836.145 0.151\n",
            "Epoca[3/5] Loss: 6828.287 6828.121 0.167\n",
            "Epoca[3/5] Loss: 6828.541 6828.374 0.167\n",
            "Epoca[3/5] Loss: 6811.658 6811.494 0.163\n",
            "Epoca[3/5] Loss: 6843.537 6843.368 0.168\n",
            "Epoca[3/5] Loss: 6812.026 6811.859 0.167\n",
            "Epoca[3/5] Loss: 6847.072 6846.915 0.157\n",
            "Epoca[3/5] Loss: 6811.022 6810.863 0.159\n",
            "Epoca[3/5] Loss: 6815.066 6814.898 0.168\n",
            "Epoca[3/5] Loss: 6810.396 6810.233 0.162\n",
            "Epoca[3/5] Loss: 6798.196 6798.035 0.161\n",
            "Epoca[3/5] Loss: 6803.107 6802.938 0.170\n",
            "Epoca[3/5] Loss: 6851.551 6851.385 0.166\n",
            "Epoca[3/5] Loss: 6842.062 6841.905 0.157\n",
            "Epoca[3/5] Loss: 6845.632 6845.477 0.155\n",
            "Epoca[3/5] Loss: 6860.417 6860.263 0.155\n",
            "Epoca[3/5] Loss: 6845.882 6845.729 0.152\n",
            "Epoca[3/5] Loss: 6829.053 6828.897 0.155\n",
            "Epoca[3/5] Loss: 6846.713 6846.559 0.154\n",
            "Epoca[3/5] Loss: 6811.159 6811.002 0.157\n",
            "Epoca[3/5] Loss: 6827.414 6827.257 0.157\n",
            "Epoca[3/5] Loss: 6818.606 6818.455 0.151\n",
            "Epoca[3/5] Loss: 6824.969 6824.814 0.155\n",
            "Epoca[3/5] Loss: 6816.080 6815.921 0.159\n",
            "Epoca[3/5] Loss: 6841.843 6841.688 0.156\n",
            "Epoca[3/5] Loss: 6817.214 6817.055 0.160\n",
            "Epoca[3/5] Loss: 5117.950 5117.791 0.160\n",
            "Epoca[4/5] Loss: 6818.374 6818.230 0.144\n",
            "Epoca[4/5] Loss: 6850.087 6849.908 0.179\n",
            "Epoca[4/5] Loss: 6839.334 6839.193 0.141\n",
            "Epoca[4/5] Loss: 6806.278 6806.145 0.134\n",
            "Epoca[4/5] Loss: 6824.603 6824.449 0.155\n",
            "Epoca[4/5] Loss: 6813.779 6813.621 0.158\n",
            "Epoca[4/5] Loss: 6821.116 6820.988 0.129\n",
            "Epoca[4/5] Loss: 6847.001 6846.873 0.128\n",
            "Epoca[4/5] Loss: 6796.085 6795.936 0.150\n",
            "Epoca[4/5] Loss: 6843.527 6843.372 0.155\n",
            "Epoca[4/5] Loss: 6850.160 6850.034 0.127\n",
            "Epoca[4/5] Loss: 6845.754 6845.635 0.119\n",
            "Epoca[4/5] Loss: 6823.117 6822.985 0.131\n",
            "Epoca[4/5] Loss: 6826.356 6826.208 0.148\n",
            "Epoca[4/5] Loss: 6824.891 6824.756 0.135\n",
            "Epoca[4/5] Loss: 6821.441 6821.309 0.133\n",
            "Epoca[4/5] Loss: 6844.750 6844.621 0.130\n",
            "Epoca[4/5] Loss: 6833.065 6832.931 0.135\n",
            "Epoca[4/5] Loss: 6808.794 6808.657 0.137\n",
            "Epoca[4/5] Loss: 6832.979 6832.862 0.118\n",
            "Epoca[4/5] Loss: 6830.904 6830.778 0.126\n",
            "Epoca[4/5] Loss: 6838.562 6838.421 0.140\n",
            "Epoca[4/5] Loss: 6807.729 6807.589 0.141\n",
            "Epoca[4/5] Loss: 6831.901 6831.768 0.133\n",
            "Epoca[4/5] Loss: 6816.819 6816.688 0.130\n",
            "Epoca[4/5] Loss: 6816.652 6816.515 0.137\n",
            "Epoca[4/5] Loss: 6852.459 6852.323 0.136\n",
            "Epoca[4/5] Loss: 6824.307 6824.178 0.129\n",
            "Epoca[4/5] Loss: 6800.914 6800.783 0.131\n",
            "Epoca[4/5] Loss: 6796.925 6796.787 0.139\n",
            "Epoca[4/5] Loss: 6839.485 6839.345 0.140\n",
            "Epoca[4/5] Loss: 6816.506 6816.369 0.138\n",
            "Epoca[4/5] Loss: 6818.642 6818.513 0.129\n",
            "Epoca[4/5] Loss: 6827.631 6827.500 0.130\n",
            "Epoca[4/5] Loss: 6819.399 6819.259 0.140\n",
            "Epoca[4/5] Loss: 6802.125 6801.981 0.144\n",
            "Epoca[4/5] Loss: 6835.940 6835.804 0.137\n",
            "Epoca[4/5] Loss: 6827.654 6827.517 0.137\n",
            "Epoca[4/5] Loss: 6821.890 6821.747 0.142\n",
            "Epoca[4/5] Loss: 6822.985 6822.838 0.147\n",
            "Epoca[4/5] Loss: 6824.995 6824.855 0.140\n",
            "Epoca[4/5] Loss: 6812.837 6812.704 0.133\n",
            "Epoca[4/5] Loss: 6812.804 6812.666 0.138\n",
            "Epoca[4/5] Loss: 6809.548 6809.402 0.145\n",
            "Epoca[4/5] Loss: 6822.878 6822.732 0.146\n",
            "Epoca[4/5] Loss: 6790.185 6790.045 0.140\n",
            "Epoca[4/5] Loss: 6811.058 6810.920 0.138\n",
            "Epoca[4/5] Loss: 6815.102 6814.958 0.144\n",
            "Epoca[4/5] Loss: 6825.456 6825.315 0.141\n",
            "Epoca[4/5] Loss: 6806.973 6806.834 0.139\n",
            "Epoca[4/5] Loss: 6819.029 6818.891 0.138\n",
            "Epoca[4/5] Loss: 6816.287 6816.143 0.144\n",
            "Epoca[4/5] Loss: 6804.561 6804.416 0.145\n",
            "Epoca[4/5] Loss: 6812.587 6812.447 0.141\n",
            "Epoca[4/5] Loss: 6801.609 6801.463 0.146\n",
            "Epoca[4/5] Loss: 6806.383 6806.236 0.147\n",
            "Epoca[4/5] Loss: 6805.381 6805.235 0.146\n",
            "Epoca[4/5] Loss: 6820.686 6820.542 0.144\n",
            "Epoca[4/5] Loss: 6812.761 6812.616 0.145\n",
            "Epoca[4/5] Loss: 6815.463 6815.313 0.150\n",
            "Epoca[4/5] Loss: 6803.903 6803.757 0.147\n",
            "Epoca[4/5] Loss: 6818.269 6818.128 0.141\n",
            "Epoca[4/5] Loss: 6809.917 6809.775 0.142\n",
            "Epoca[4/5] Loss: 6790.494 6790.345 0.149\n",
            "Epoca[4/5] Loss: 6805.366 6805.218 0.148\n",
            "Epoca[4/5] Loss: 6798.528 6798.380 0.148\n",
            "Epoca[4/5] Loss: 6819.508 6819.363 0.144\n",
            "Epoca[4/5] Loss: 6811.517 6811.367 0.150\n",
            "Epoca[4/5] Loss: 6798.885 6798.736 0.149\n",
            "Epoca[4/5] Loss: 6803.684 6803.538 0.146\n",
            "Epoca[4/5] Loss: 6822.934 6822.789 0.145\n",
            "Epoca[4/5] Loss: 6799.444 6799.292 0.151\n",
            "Epoca[4/5] Loss: 6793.145 6792.990 0.155\n",
            "Epoca[4/5] Loss: 6785.901 6785.749 0.152\n",
            "Epoca[4/5] Loss: 6782.985 6782.837 0.148\n",
            "Epoca[4/5] Loss: 6786.674 6786.523 0.151\n",
            "Epoca[4/5] Loss: 6805.408 6805.254 0.154\n",
            "Epoca[4/5] Loss: 6803.880 6803.726 0.154\n",
            "Epoca[4/5] Loss: 6844.355 6844.205 0.151\n",
            "Epoca[4/5] Loss: 6814.582 6814.431 0.150\n",
            "Epoca[4/5] Loss: 6801.778 6801.620 0.158\n",
            "Epoca[4/5] Loss: 6779.522 6779.367 0.155\n",
            "Epoca[4/5] Loss: 6793.404 6793.252 0.152\n",
            "Epoca[4/5] Loss: 6795.490 6795.333 0.157\n",
            "Epoca[4/5] Loss: 6770.936 6770.777 0.158\n",
            "Epoca[4/5] Loss: 6776.868 6776.713 0.155\n",
            "Epoca[4/5] Loss: 6771.672 6771.515 0.157\n",
            "Epoca[4/5] Loss: 6800.164 6800.006 0.158\n",
            "Epoca[4/5] Loss: 6820.963 6820.804 0.159\n",
            "Epoca[4/5] Loss: 6796.150 6795.997 0.153\n",
            "Epoca[4/5] Loss: 6815.003 6814.847 0.156\n",
            "Epoca[4/5] Loss: 6816.153 6815.996 0.157\n",
            "Epoca[4/5] Loss: 6807.650 6807.497 0.153\n",
            "Epoca[4/5] Loss: 5099.258 5099.106 0.152\n",
            "Epoca[5/5] Loss: 6801.800 6801.645 0.155\n",
            "Epoca[5/5] Loss: 6795.575 6795.414 0.161\n",
            "Epoca[5/5] Loss: 6786.927 6786.768 0.159\n",
            "Epoca[5/5] Loss: 6806.113 6805.959 0.154\n",
            "Epoca[5/5] Loss: 6791.816 6791.660 0.156\n",
            "Epoca[5/5] Loss: 6812.571 6812.409 0.162\n",
            "Epoca[5/5] Loss: 6798.840 6798.681 0.159\n",
            "Epoca[5/5] Loss: 6788.534 6788.383 0.151\n",
            "Epoca[5/5] Loss: 6826.399 6826.241 0.158\n",
            "Epoca[5/5] Loss: 6830.203 6830.042 0.160\n",
            "Epoca[5/5] Loss: 6815.647 6815.491 0.156\n",
            "Epoca[5/5] Loss: 6808.558 6808.403 0.155\n",
            "Epoca[5/5] Loss: 6780.236 6780.083 0.153\n",
            "Epoca[5/5] Loss: 6813.319 6813.160 0.159\n",
            "Epoca[5/5] Loss: 6780.989 6780.834 0.155\n",
            "Epoca[5/5] Loss: 6795.170 6795.016 0.154\n",
            "Epoca[5/5] Loss: 6805.616 6805.459 0.157\n",
            "Epoca[5/5] Loss: 6808.588 6808.431 0.157\n",
            "Epoca[5/5] Loss: 6812.288 6812.132 0.156\n",
            "Epoca[5/5] Loss: 6799.663 6799.507 0.156\n",
            "Epoca[5/5] Loss: 6791.691 6791.532 0.159\n",
            "Epoca[5/5] Loss: 6800.137 6799.982 0.155\n",
            "Epoca[5/5] Loss: 6795.456 6795.307 0.149\n",
            "Epoca[5/5] Loss: 6808.061 6807.903 0.158\n",
            "Epoca[5/5] Loss: 6808.512 6808.352 0.161\n",
            "Epoca[5/5] Loss: 6809.140 6808.983 0.157\n",
            "Epoca[5/5] Loss: 6831.369 6831.220 0.149\n",
            "Epoca[5/5] Loss: 6790.940 6790.785 0.155\n",
            "Epoca[5/5] Loss: 6779.269 6779.116 0.152\n",
            "Epoca[5/5] Loss: 6798.792 6798.645 0.147\n",
            "Epoca[5/5] Loss: 6802.055 6801.907 0.148\n",
            "Epoca[5/5] Loss: 6784.525 6784.375 0.150\n",
            "Epoca[5/5] Loss: 6797.160 6797.003 0.157\n",
            "Epoca[5/5] Loss: 6783.927 6783.780 0.147\n",
            "Epoca[5/5] Loss: 6793.161 6793.016 0.145\n",
            "Epoca[5/5] Loss: 6798.682 6798.531 0.150\n",
            "Epoca[5/5] Loss: 6812.330 6812.180 0.150\n",
            "Epoca[5/5] Loss: 6802.550 6802.403 0.147\n",
            "Epoca[5/5] Loss: 6791.701 6791.554 0.148\n",
            "Epoca[5/5] Loss: 6755.075 6754.924 0.150\n",
            "Epoca[5/5] Loss: 6812.790 6812.639 0.151\n",
            "Epoca[5/5] Loss: 6788.549 6788.402 0.147\n",
            "Epoca[5/5] Loss: 6777.770 6777.624 0.146\n",
            "Epoca[5/5] Loss: 6794.792 6794.642 0.150\n",
            "Epoca[5/5] Loss: 6796.959 6796.812 0.147\n",
            "Epoca[5/5] Loss: 6782.589 6782.438 0.152\n",
            "Epoca[5/5] Loss: 6812.509 6812.354 0.155\n",
            "Epoca[5/5] Loss: 6839.621 6839.467 0.154\n",
            "Epoca[5/5] Loss: 6783.376 6783.224 0.152\n",
            "Epoca[5/5] Loss: 6775.036 6774.880 0.156\n",
            "Epoca[5/5] Loss: 6803.806 6803.656 0.150\n",
            "Epoca[5/5] Loss: 6802.535 6802.381 0.153\n",
            "Epoca[5/5] Loss: 6812.926 6812.770 0.157\n",
            "Epoca[5/5] Loss: 6794.747 6794.595 0.151\n",
            "Epoca[5/5] Loss: 6794.305 6794.151 0.154\n",
            "Epoca[5/5] Loss: 6794.849 6794.695 0.154\n",
            "Epoca[5/5] Loss: 6767.127 6766.976 0.152\n",
            "Epoca[5/5] Loss: 6792.292 6792.140 0.153\n",
            "Epoca[5/5] Loss: 6787.438 6787.278 0.160\n",
            "Epoca[5/5] Loss: 6785.956 6785.797 0.159\n",
            "Epoca[5/5] Loss: 6778.286 6778.130 0.155\n",
            "Epoca[5/5] Loss: 6783.825 6783.666 0.159\n",
            "Epoca[5/5] Loss: 6781.285 6781.127 0.158\n",
            "Epoca[5/5] Loss: 6798.547 6798.390 0.157\n",
            "Epoca[5/5] Loss: 6780.940 6780.783 0.157\n",
            "Epoca[5/5] Loss: 6790.155 6789.996 0.159\n",
            "Epoca[5/5] Loss: 6774.606 6774.450 0.156\n",
            "Epoca[5/5] Loss: 6799.425 6799.269 0.156\n",
            "Epoca[5/5] Loss: 6802.669 6802.511 0.158\n",
            "Epoca[5/5] Loss: 6785.292 6785.140 0.152\n",
            "Epoca[5/5] Loss: 6757.727 6757.573 0.154\n",
            "Epoca[5/5] Loss: 6803.021 6802.858 0.162\n",
            "Epoca[5/5] Loss: 6800.023 6799.864 0.159\n",
            "Epoca[5/5] Loss: 6783.158 6783.000 0.159\n",
            "Epoca[5/5] Loss: 6792.176 6792.017 0.160\n",
            "Epoca[5/5] Loss: 6800.043 6799.881 0.162\n",
            "Epoca[5/5] Loss: 6792.589 6792.435 0.155\n",
            "Epoca[5/5] Loss: 6774.657 6774.502 0.155\n",
            "Epoca[5/5] Loss: 6789.591 6789.430 0.161\n",
            "Epoca[5/5] Loss: 6792.591 6792.430 0.160\n",
            "Epoca[5/5] Loss: 6774.441 6774.288 0.153\n",
            "Epoca[5/5] Loss: 6783.001 6782.844 0.157\n",
            "Epoca[5/5] Loss: 6775.419 6775.257 0.162\n",
            "Epoca[5/5] Loss: 6800.675 6800.527 0.148\n",
            "Epoca[5/5] Loss: 6784.827 6784.678 0.149\n",
            "Epoca[5/5] Loss: 6794.329 6794.166 0.163\n",
            "Epoca[5/5] Loss: 6798.030 6797.865 0.165\n",
            "Epoca[5/5] Loss: 6788.292 6788.143 0.150\n",
            "Epoca[5/5] Loss: 6793.442 6793.294 0.148\n",
            "Epoca[5/5] Loss: 6792.195 6792.039 0.156\n",
            "Epoca[5/5] Loss: 6806.417 6806.257 0.159\n",
            "Epoca[5/5] Loss: 6802.302 6802.160 0.142\n",
            "Epoca[5/5] Loss: 6778.798 6778.649 0.149\n",
            "Epoca[5/5] Loss: 5085.764 5085.606 0.158\n"
          ],
          "name": "stdout"
        }
      ]
    },
    {
      "cell_type": "code",
      "metadata": {
        "id": "bEdXhHTzOSRr"
      },
      "source": [
        "# esta función concatena la imagen verdadera con la imagen\r\n",
        "def compare(x):\r\n",
        "    recon_x, _, _ = vae(x)\r\n",
        "    return torch.cat([x, recon_x])"
      ],
      "execution_count": 19,
      "outputs": []
    },
    {
      "cell_type": "code",
      "metadata": {
        "colab": {
          "base_uri": "https://localhost:8080/",
          "height": 238
        },
        "id": "-AJ1iFZvOV67",
        "outputId": "a8b90551-3d7c-44bf-992b-796ba95c3128"
      },
      "source": [
        "# ejecutamos esta celda las veces que queramos; se mostrará una imagen diferente\r\n",
        "\r\n",
        "# sample = torch.randn(bs, 1024)\r\n",
        "# compare_x = vae.decoder(sample)\r\n",
        "\r\n",
        "# fixed_x, _ = next(iter(dataloader))\r\n",
        "# fixed_x = fixed_x[:8]\r\n",
        "fixed_x = dataset[randint(1, 100)][0].unsqueeze(0)\r\n",
        "compare_x = compare(fixed_x)\r\n",
        "\r\n",
        "save_image(compare_x.data.cpu(), 'imagen_ejemplo.png')\r\n",
        "\r\n",
        "plt.imshow(plt.imread('imagen_ejemplo.png'))"
      ],
      "execution_count": 20,
      "outputs": [
        {
          "output_type": "execute_result",
          "data": {
            "text/plain": [
              "<matplotlib.image.AxesImage at 0x7f9930431828>"
            ]
          },
          "metadata": {
            "tags": []
          },
          "execution_count": 20
        },
        {
          "output_type": "display_data",
          "data": {
            "image/png": "[encoded data removed]",
            "text/plain": [
              "<Figure size 432x288 with 1 Axes>"
            ]
          },
          "metadata": {
            "tags": [],
            "needs_background": "light"
          }
        }
      ]
    },
    {
      "cell_type": "markdown",
      "metadata": {
        "id": "j8rNMpfJcSuY"
      },
      "source": [
        "## **IMPLEMENTACIÓN PPO**\r\n",
        "\r\n",
        "### **Detalles sobre el funcionamiento de los entornos**\r\n",
        "\r\n",
        "Una configuración típica de Aprendizaje de Refuerzo funciona haciendo que un agente de IA interactúe con nuestro entorno. El agente observa el **estado** actual de nuestro entorno, y en base a alguna **política** toma una decisión de hacer una **acción** en particular. Esta acción se transmite de nuevo al entorno que avanza un **paso**. Esto genera una **recompensa** que indica si la acción tomada fue positiva o negativa en el contexto del juego que se está jugando. Usando esta recompensa como retroalimentación, el agente intenta averiguar cómo modificar su política existente con el fin de obtener mejores recompensas en el futuro.\r\n",
        "\r\n",
        "### **Detalles sobre el entorno LunarLander-v3 (entorno discreto)**\r\n",
        "La plataforma de aterrizaje siempre está en coordenadas (0,0). Las coordenadas son los dos primeros números en el vector de estado. Recompensa por pasar de la parte superior de la pantalla a la plataforma de aterrizaje y la velocidad cero es de aproximadamente 100..140 puntos. Si el **lander** se aleja de la plataforma de aterrizaje pierde la recompensa hacia atrás. Episodio termina si el lander se estrella o llega a descansar, recibiendo -100 o +100 puntos adicionales. Cada contacto con el suelo de la pierna es +10. El uso del motor principal da una recompensa de -0,3 puntos por cada frame. El máximo puntaje es de 200 puntos. Aterrizar fuera de la plataforma de aterrizaje es posible. El combustible es infinito, por lo que un agente puede aprender a volar y luego aterrizar en su primer intento. \r\n",
        "\r\n",
        "Hay cuatro acciones discretas disponibles: no hacer nada, motor de orientación izquierda, motor principal, motor de orientación derecha.\r\n",
        "\r\n",
        "<p align=\"center\">\r\n",
        "  <img src=\"https://miro.medium.com/max/1250/1*6glcLVg9gwGEJzs-iU4YPA.png\" />\r\n",
        "  <p align=\"center\">Entrono de ejecución</p>\r\n",
        "</p>\r\n"
      ]
    },
    {
      "cell_type": "markdown",
      "metadata": {
        "id": "hh-idoFm02H0"
      },
      "source": [
        "### **Algoritmo PPO**\r\n",
        "\r\n",
        "El algoritmo [Proximal Policy Optimization (PPO)](https://arxiv.org/abs/1707.06347) fue introducido por el equipo de OpenAI en 2017 y rápidamente se convirtió en uno de los métodos de aprendizaje de refuerzo más populares que empujaron todos los demás métodos de RL en ese momento a un lado. PPO implica recopilar un pequeño lote de experiencias que interactúan con el entorno y utilizan ese lote para actualizar su política de toma de decisiones. \r\n",
        "\r\n",
        "Una vez que la política se actualiza con ese lote, las experiencias se desechan y se recopila un lote más reciente con la política recién actualizada. Esta es la razón por la que es un enfoque de **\"aprendizaje en política\"** donde las muestras de experiencia recopiladas solo son útiles para actualizar la política actual.\r\n",
        "\r\n",
        "La idea principal es que después de una actualización, la nueva política no debe estar demasiado lejos de la política anterior. Para eso, PPO utiliza el recorte o **'clip'** para evitar actualizaciones demasiado grandes. Esto conduce a una menor varianza en el entrenamiento a costa de cierto sesgo, pero asegura un entrenamiento más suave y también se asegura de que el agente no vaya a un camino irrecuperable de tomar acciones sin sentido. Por lo tanto, vamos a seguir adelante y desglosar nuestro agente en más detalles y ver cómo define y actualiza su política.\r\n",
        "\r\n",
        "\r\n",
        "\r\n",
        "* ## **La estructura del modelo Actor-Critic**\r\n",
        "\r\n",
        "\r\n",
        "PPO utiliza el enfoque Actor-Critic para el agente. Esto significa, que utiliza dos modelos, uno llamado el Actor y el otro llamado Crítico:\r\n",
        "\r\n",
        "<p align=\"center\">\r\n",
        "  <img src=\"https://miro.medium.com/max/1250/1*1P6BVgsADf3uX7xaLt3rqA.png\" />\r\n",
        "  <p align=\"center\">Estructura del modelo Actor-Critic</p>\r\n",
        "</p>\r\n"
      ]
    },
    {
      "cell_type": "markdown",
      "metadata": {
        "id": "dum9wEdI-tHb"
      },
      "source": [
        "1. **El modelo actor**\r\n",
        "\r\n",
        "Realiza la tarea de aprender qué acción tomar bajo un estado observado particular del entorno. En el caso LunarLander-v3, toma 8 valores de lista del juego como entrada que representa el estado actual de nuestro cohete y da una acción particular sobre qué motor disparar como salida:\r\n",
        "\r\n",
        "<p align=\"center\">\r\n",
        "  <img src=\"https://miro.medium.com/max/1250/1*0SaYUGGEiZO0iv0FCeABjw.png\" />\r\n",
        "  <p align=\"center\">Modelo actor</p>\r\n",
        "</p>\r\n",
        "\r\n",
        "\r\n",
        "*   *Pérdida de PPO personalizada*\r\n",
        "\r\n",
        "\r\n",
        "Esta es la parte más importante del algoritmo PPO.\r\n",
        "Las probabilidades nuevas y las probabilidades antiguas de las acciones indican la política definida por nuestro modelo de red neuronal **actor**. Al entrenar este modelo, queremos mejorar estas probabilidades para que nos dé mejores y mejores acciones con el tiempo. Ahora un problema importante en algunos enfoques de aprendizaje de refuerzo es que una vez que nuestro modelo adopta una mala política, sólo toma malas acciones en el juego, por lo que no podemos generar ninguna buena acción a partir de ahí en conducirnos por un camino irrecuperable en el entrenamiento. PPO intenta abordar esto solo realizando pequeñas actualizaciones del modelo en un paso de actualización, estabilizando así el proceso de entrenamiento.\r\n",
        "\r\n",
        "2. **El modelo crítico**\r\n",
        "\r\n",
        "Enviamos la acción predicha por el **actor** a nuestro entorno y observamos lo que sucede en el juego. Si algo positivo sucede como resultado de nuestra acción, como aterrizar una nave espacial, entonces el entorno devuelve una respuesta positiva en forma de recompensa. Pero si nuestra nave espacial cae, recibimos una recompensa negativa. Estas recompensas se aceptan entrenando la red:\r\n",
        "\r\n",
        "<p align=\"center\">\r\n",
        "  <img src=\"https://miro.medium.com/max/1250/1*5CdBMVwuVctrIzQ1aE9xbg.png\" />\r\n",
        "  <p align=\"center\">Modelo crítico</p>\r\n",
        "</p>\r\n",
        "\r\n",
        "El papel principal del modelo crítico es aprender a evaluar si la acción tomada por el actor llevó a nuestro entorno a estar en un mejor estado o no y dar su opinión al actor. El crítico genera un número real que indica una calificación (valor Q) de la acción realizada en el estado anterior. Al comparar esta calificación obtenida del crítico, el actor puede comparar su política actual con una nueva política y decidir cómo quiere mejorarse a sí mismo para tomar mejores acciones.\r\n",
        "\r\n",
        "Ahora, un paso importante en el algoritmo PPO es ejecutar a través de todo este loop con los dos modelos para un número fijo de pasos conocidos como **pasos PPO**. Así que esencialmente, estamos interactuando con nuestro entorno para un cierto número de pasos y recolectando los estados, acciones, recompensas, etc. que usaremos para el entrenamiento.\r\n",
        "\r\n",
        "A continuación se presenta una implementación del algoritmo PPO escrito en Pytorch, en este caso para el entorno de aterrizaje de la nave."
      ]
    },
    {
      "cell_type": "code",
      "metadata": {
        "colab": {
          "base_uri": "https://localhost:8080/"
        },
        "id": "zj_LouenU9cN",
        "outputId": "870a56ba-543f-4bc5-da14-9785b99e93d9"
      },
      "source": [
        "%cd ..\r\n",
        "%cd PPO-PyTorch"
      ],
      "execution_count": 21,
      "outputs": [
        {
          "output_type": "stream",
          "text": [
            "/content/RL-Algorithms\n",
            "/content/RL-Algorithms/PPO-PyTorch\n"
          ],
          "name": "stdout"
        }
      ]
    },
    {
      "cell_type": "code",
      "metadata": {
        "id": "h3MsBqDycZcZ",
        "colab": {
          "base_uri": "https://localhost:8080/"
        },
        "outputId": "e4bd6775-6e30-49a0-df07-527ddd7b6059"
      },
      "source": [
        "# instalamos algunas dependencias para poder levantar la interfaz GYM\r\n",
        "!apt-get install -y xvfb python-opengl > /dev/null 2>&1\r\n",
        "!pip install gym pyvirtualdisplay > /dev/null 2>&1\r\n",
        "!pip install box2d-py"
      ],
      "execution_count": 22,
      "outputs": [
        {
          "output_type": "stream",
          "text": [
            "Collecting box2d-py\n",
            "\u001b[?25l  Downloading https://files.pythonhosted.org/packages/06/bd/6cdc3fd994b0649dcf5d9bad85bd9e26172308bbe9a421bfc6fdbf5081a6/box2d_py-2.3.8-cp36-cp36m-manylinux1_x86_64.whl (448kB)\n",
            "\u001b[K     |████████████████████████████████| 450kB 5.3MB/s \n",
            "\u001b[?25hInstalling collected packages: box2d-py\n",
            "Successfully installed box2d-py-2.3.8\n"
          ],
          "name": "stdout"
        }
      ]
    },
    {
      "cell_type": "code",
      "metadata": {
        "colab": {
          "base_uri": "https://localhost:8080/"
        },
        "id": "U6LzbbWFVC6v",
        "outputId": "e1979a90-6b6f-4686-96b0-43cddc432116"
      },
      "source": [
        "import gym\r\n",
        "from PIL import Image\r\n",
        "\r\n",
        "import torch\r\n",
        "import torch.nn as nn\r\n",
        "from torch.distributions import MultivariateNormal\r\n",
        "from torch.distributions import Categorical\r\n",
        "\r\n",
        "from pyvirtualdisplay import Display\r\n",
        "from IPython import display as ipythondisplay\r\n",
        "import matplotlib.pyplot as plt\r\n",
        "import numpy as np\r\n",
        "\r\n",
        "device = torch.device(\"cuda:0\" if torch.cuda.is_available() else \"cpu\")\r\n",
        "device"
      ],
      "execution_count": 23,
      "outputs": [
        {
          "output_type": "execute_result",
          "data": {
            "text/plain": [
              "device(type='cpu')"
            ]
          },
          "metadata": {
            "tags": []
          },
          "execution_count": 23
        }
      ]
    },
    {
      "cell_type": "code",
      "metadata": {
        "id": "lbUrGi1ATcrR"
      },
      "source": [
        "class Memory:\r\n",
        "    def __init__(self):\r\n",
        "        self.actions = []\r\n",
        "        self.states = []\r\n",
        "        self.logprobs = []\r\n",
        "        self.rewards = []\r\n",
        "        self.is_terminals = []\r\n",
        "    \r\n",
        "    def clear_memory(self):\r\n",
        "        del self.actions[:]\r\n",
        "        del self.states[:]\r\n",
        "        del self.logprobs[:]\r\n",
        "        del self.rewards[:]\r\n",
        "        del self.is_terminals[:]\r\n"
      ],
      "execution_count": 24,
      "outputs": []
    },
    {
      "cell_type": "code",
      "metadata": {
        "id": "6Y-BGop-R6ML"
      },
      "source": [
        "class ActorCritic(nn.Module):\r\n",
        "    def __init__(self, state_dim, action_dim, n_latent_var):\r\n",
        "        super(ActorCritic, self).__init__()\r\n",
        "\r\n",
        "        # actor\r\n",
        "        self.action_layer = nn.Sequential(\r\n",
        "                nn.Linear(state_dim, n_latent_var),\r\n",
        "                nn.Tanh(),\r\n",
        "                nn.Linear(n_latent_var, n_latent_var),\r\n",
        "                nn.Tanh(),\r\n",
        "                nn.Linear(n_latent_var, action_dim),\r\n",
        "                nn.Softmax(dim=-1)\r\n",
        "                )\r\n",
        "        \r\n",
        "        # critico\r\n",
        "        self.value_layer = nn.Sequential(\r\n",
        "                nn.Linear(state_dim, n_latent_var),\r\n",
        "                nn.Tanh(),\r\n",
        "                nn.Linear(n_latent_var, n_latent_var),\r\n",
        "                nn.Tanh(),\r\n",
        "                nn.Linear(n_latent_var, 1)\r\n",
        "                )\r\n",
        "        \r\n",
        "    def forward(self):\r\n",
        "        raise NotImplementedError\r\n",
        "        \r\n",
        "    def act(self, state, memory):\r\n",
        "        state = torch.from_numpy(state).float().to(device) \r\n",
        "        action_probs = self.action_layer(state)\r\n",
        "        dist = Categorical(action_probs)\r\n",
        "        action = dist.sample()\r\n",
        "        \r\n",
        "        memory.states.append(state)\r\n",
        "        memory.actions.append(action)\r\n",
        "        memory.logprobs.append(dist.log_prob(action))\r\n",
        "        \r\n",
        "        return action.item()\r\n",
        "    \r\n",
        "    def evaluate(self, state, action):\r\n",
        "        action_probs = self.action_layer(state)\r\n",
        "        dist = Categorical(action_probs)\r\n",
        "        \r\n",
        "        action_logprobs = dist.log_prob(action)\r\n",
        "        dist_entropy = dist.entropy()\r\n",
        "        \r\n",
        "        state_value = self.value_layer(state)\r\n",
        "        \r\n",
        "        return action_logprobs, torch.squeeze(state_value), dist_entropy\r\n",
        "        "
      ],
      "execution_count": 25,
      "outputs": []
    },
    {
      "cell_type": "code",
      "metadata": {
        "id": "YWwUFhX-Rztw"
      },
      "source": [
        "class PPO:\r\n",
        "    def __init__(self, state_dim, action_dim, n_latent_var, lr, betas, gamma, K_epochs, eps_clip):\r\n",
        "        self.lr = lr\r\n",
        "        self.betas = betas\r\n",
        "        self.gamma = gamma\r\n",
        "        self.eps_clip = eps_clip\r\n",
        "        self.K_epochs = K_epochs\r\n",
        "        \r\n",
        "        self.policy = ActorCritic(state_dim, action_dim, n_latent_var).to(device)\r\n",
        "        self.optimizer = torch.optim.Adam(self.policy.parameters(), lr=lr, betas=betas)\r\n",
        "        self.policy_old = ActorCritic(state_dim, action_dim, n_latent_var).to(device)\r\n",
        "        self.policy_old.load_state_dict(self.policy.state_dict())\r\n",
        "        \r\n",
        "        self.MseLoss = nn.MSELoss()\r\n",
        "    \r\n",
        "    def update(self, memory):   \r\n",
        "        # Estimación de Monte Carlo de las recompensas de estado\r\n",
        "        rewards = []\r\n",
        "        discounted_reward = 0\r\n",
        "        for reward, is_terminal in zip(reversed(memory.rewards), reversed(memory.is_terminals)):\r\n",
        "            if is_terminal:\r\n",
        "                discounted_reward = 0\r\n",
        "            discounted_reward = reward + (self.gamma * discounted_reward)\r\n",
        "            rewards.insert(0, discounted_reward)\r\n",
        "        \r\n",
        "        # Normalizamos las recompensas\r\n",
        "        rewards = torch.tensor(rewards, dtype=torch.float32).to(device)\r\n",
        "        rewards = (rewards - rewards.mean()) / (rewards.std() + 1e-5)\r\n",
        "        \r\n",
        "        # convertimos la lista a tipo tensor\r\n",
        "        old_states = torch.stack(memory.states).to(device).detach()\r\n",
        "        old_actions = torch.stack(memory.actions).to(device).detach()\r\n",
        "        old_logprobs = torch.stack(memory.logprobs).to(device).detach()\r\n",
        "        \r\n",
        "        # Optimizamos la política para k épocas\r\n",
        "        for _ in range(self.K_epochs):\r\n",
        "            # Evaluamos los valores y acciones antiguas:\r\n",
        "            logprobs, state_values, dist_entropy = self.policy.evaluate(old_states, old_actions)\r\n",
        "            \r\n",
        "            # encontramos la relación (pi_theta / pi_theta__antiguo):\r\n",
        "            ratios = torch.exp(logprobs - old_logprobs.detach())\r\n",
        "                \r\n",
        "            # Finding Surrogate Loss:\r\n",
        "            advantages = rewards - state_values.detach()\r\n",
        "            surr1 = ratios * advantages\r\n",
        "            surr2 = torch.clamp(ratios, 1-self.eps_clip, 1+self.eps_clip) * advantages\r\n",
        "            loss = -torch.min(surr1, surr2) + 0.5*self.MseLoss(state_values, rewards) - 0.01*dist_entropy\r\n",
        "            \r\n",
        "            # actualizamos los parámetros\r\n",
        "            self.optimizer.zero_grad()\r\n",
        "            loss.mean().backward()\r\n",
        "            self.optimizer.step()\r\n",
        "        \r\n",
        "        # copìamos los nuevos pesos dentro de la antigua política:\r\n",
        "        self.policy_old.load_state_dict(self.policy.state_dict())\r\n",
        "        "
      ],
      "execution_count": 26,
      "outputs": []
    },
    {
      "cell_type": "code",
      "metadata": {
        "colab": {
          "base_uri": "https://localhost:8080/"
        },
        "id": "JHLb7L0uSV8c",
        "outputId": "cb3f0cee-7038-4e87-feb1-e3dd4231b4b2"
      },
      "source": [
        "%matplotlib inline\r\n",
        "%pylab inline\r\n",
        "\r\n",
        "\r\n",
        "display = Display(visible=0, size=(400, 300))\r\n",
        "display.start()\r\n",
        "\r\n",
        "def test():\r\n",
        "    ############## Hiperparámetros ##############\r\n",
        "    env_name = f\"LunarLander-v2\"\r\n",
        "    # creamos nuestro entorno\r\n",
        "    env = gym.make(env_name)\r\n",
        "    state_dim = env.observation_space.shape[0]\r\n",
        "    action_dim = 4\r\n",
        "    render = False\r\n",
        "    max_timesteps = 500\r\n",
        "    n_latent_var = 64           # número de variables en la capa oculta\r\n",
        "    lr = 0.0007\r\n",
        "    betas = (0.9, 0.999)\r\n",
        "    gamma = 0.99                # factor de descuento\r\n",
        "    K_epochs = 4                # actualizamos la política cada k épocas\r\n",
        "    eps_clip = 0.2              # cortamos o clipeamos los parámetros de acuerdo a PPO\r\n",
        "    #############################################\r\n",
        "\r\n",
        "    n_episodes = 3\r\n",
        "    max_timesteps = 300\r\n",
        "    render = True\r\n",
        "    save_gif = False\r\n",
        "\r\n",
        "    filename = \"PPO_{}.pth\".format(env_name)\r\n",
        "    directory = \"./preTrained/\"\r\n",
        "    \r\n",
        "    memory = Memory()\r\n",
        "    ppo = PPO(state_dim, action_dim, n_latent_var, lr, betas, gamma, K_epochs, eps_clip)\r\n",
        "    ppo.policy_old.load_state_dict(torch.load(directory+filename), strict=False)\r\n",
        "    \r\n",
        "    for ep in range(1, n_episodes+1):\r\n",
        "        ep_reward = 0\r\n",
        "        state = env.reset()\r\n",
        "        for t in range(max_timesteps):\r\n",
        "            action = ppo.policy_old.act(state, memory)\r\n",
        "            state, reward, done, _ = env.step(action)\r\n",
        "            ep_reward += reward\r\n",
        "            if render:\r\n",
        "                img = env.render(mode='rgb_array')\r\n",
        "                img = Image.fromarray(img)\r\n",
        "                plt.imshow(img)\r\n",
        "                ipythondisplay.clear_output(wait=True)\r\n",
        "                ipythondisplay.display(plt.gcf())\r\n",
        "            if save_gif:\r\n",
        "                 img = env.render(mode = 'rgb_array')\r\n",
        "                 img = Image.fromarray(img)\r\n",
        "                 img.save('./gif/{}.jpg'.format(t))  \r\n",
        "            if done:\r\n",
        "                break\r\n",
        "            \r\n",
        "        print('Episodio: {}\\tRecompensa: {}'.format(ep, int(ep_reward)))\r\n",
        "        ep_reward = 0\r\n",
        "        env.close()"
      ],
      "execution_count": 27,
      "outputs": [
        {
          "output_type": "stream",
          "text": [
            "Populating the interactive namespace from numpy and matplotlib\n"
          ],
          "name": "stdout"
        },
        {
          "output_type": "stream",
          "text": [
            "/usr/local/lib/python3.6/dist-packages/IPython/core/magics/pylab.py:161: UserWarning: pylab import has clobbered these variables: ['display', 'randint']\n",
            "`%matplotlib` prevents importing * from pylab and numpy\n",
            "  \"\\n`%matplotlib` prevents importing * from pylab and numpy\"\n"
          ],
          "name": "stderr"
        }
      ]
    },
    {
      "cell_type": "code",
      "metadata": {
        "colab": {
          "base_uri": "https://localhost:8080/",
          "height": 602
        },
        "id": "TcENwCDYTYiO",
        "outputId": "4c4187a4-4052-42bb-c414-4ff909c6adef"
      },
      "source": [
        "test()  # la animación no es tan fluida pero esta dentro de lo aceptable"
      ],
      "execution_count": 28,
      "outputs": [
        {
          "output_type": "error",
          "ename": "KeyboardInterrupt",
          "evalue": "ignored",
          "traceback": [
            "\u001b[0;31m---------------------------------------------------------------------------\u001b[0m",
            "\u001b[0;31mKeyboardInterrupt\u001b[0m                         Traceback (most recent call last)",
            "\u001b[0;32m<ipython-input-28-fbd55f77ab7c>\u001b[0m in \u001b[0;36m<module>\u001b[0;34m()\u001b[0m\n\u001b[0;32m----> 1\u001b[0;31m \u001b[0mtest\u001b[0m\u001b[0;34m(\u001b[0m\u001b[0;34m)\u001b[0m\u001b[0;34m\u001b[0m\u001b[0;34m\u001b[0m\u001b[0m\n\u001b[0m",
            "\u001b[0;32m<ipython-input-27-07279026d125>\u001b[0m in \u001b[0;36mtest\u001b[0;34m()\u001b[0m\n\u001b[1;32m     50\u001b[0m                 \u001b[0;31m#plt.show()\u001b[0m\u001b[0;34m\u001b[0m\u001b[0;34m\u001b[0m\u001b[0;34m\u001b[0m\u001b[0m\n\u001b[1;32m     51\u001b[0m                 \u001b[0mipythondisplay\u001b[0m\u001b[0;34m.\u001b[0m\u001b[0mclear_output\u001b[0m\u001b[0;34m(\u001b[0m\u001b[0mwait\u001b[0m\u001b[0;34m=\u001b[0m\u001b[0;32mTrue\u001b[0m\u001b[0;34m)\u001b[0m\u001b[0;34m\u001b[0m\u001b[0;34m\u001b[0m\u001b[0m\n\u001b[0;32m---> 52\u001b[0;31m                 \u001b[0mipythondisplay\u001b[0m\u001b[0;34m.\u001b[0m\u001b[0mdisplay\u001b[0m\u001b[0;34m(\u001b[0m\u001b[0mplt\u001b[0m\u001b[0;34m.\u001b[0m\u001b[0mgcf\u001b[0m\u001b[0;34m(\u001b[0m\u001b[0;34m)\u001b[0m\u001b[0;34m)\u001b[0m\u001b[0;34m\u001b[0m\u001b[0;34m\u001b[0m\u001b[0m\n\u001b[0m\u001b[1;32m     53\u001b[0m             \u001b[0;32mif\u001b[0m \u001b[0msave_gif\u001b[0m\u001b[0;34m:\u001b[0m\u001b[0;34m\u001b[0m\u001b[0;34m\u001b[0m\u001b[0m\n\u001b[1;32m     54\u001b[0m                  \u001b[0mimg\u001b[0m \u001b[0;34m=\u001b[0m \u001b[0menv\u001b[0m\u001b[0;34m.\u001b[0m\u001b[0mrender\u001b[0m\u001b[0;34m(\u001b[0m\u001b[0mmode\u001b[0m \u001b[0;34m=\u001b[0m \u001b[0;34m'rgb_array'\u001b[0m\u001b[0;34m)\u001b[0m\u001b[0;34m\u001b[0m\u001b[0;34m\u001b[0m\u001b[0m\n",
            "\u001b[0;32m/usr/local/lib/python3.6/dist-packages/IPython/core/display.py\u001b[0m in \u001b[0;36mdisplay\u001b[0;34m(*objs, **kwargs)\u001b[0m\n\u001b[1;32m    304\u001b[0m             \u001b[0mpublish_display_data\u001b[0m\u001b[0;34m(\u001b[0m\u001b[0mdata\u001b[0m\u001b[0;34m=\u001b[0m\u001b[0mobj\u001b[0m\u001b[0;34m,\u001b[0m \u001b[0mmetadata\u001b[0m\u001b[0;34m=\u001b[0m\u001b[0mmetadata\u001b[0m\u001b[0;34m,\u001b[0m \u001b[0;34m**\u001b[0m\u001b[0mkwargs\u001b[0m\u001b[0;34m)\u001b[0m\u001b[0;34m\u001b[0m\u001b[0;34m\u001b[0m\u001b[0m\n\u001b[1;32m    305\u001b[0m         \u001b[0;32melse\u001b[0m\u001b[0;34m:\u001b[0m\u001b[0;34m\u001b[0m\u001b[0;34m\u001b[0m\u001b[0m\n\u001b[0;32m--> 306\u001b[0;31m             \u001b[0mformat_dict\u001b[0m\u001b[0;34m,\u001b[0m \u001b[0mmd_dict\u001b[0m \u001b[0;34m=\u001b[0m \u001b[0mformat\u001b[0m\u001b[0;34m(\u001b[0m\u001b[0mobj\u001b[0m\u001b[0;34m,\u001b[0m \u001b[0minclude\u001b[0m\u001b[0;34m=\u001b[0m\u001b[0minclude\u001b[0m\u001b[0;34m,\u001b[0m \u001b[0mexclude\u001b[0m\u001b[0;34m=\u001b[0m\u001b[0mexclude\u001b[0m\u001b[0;34m)\u001b[0m\u001b[0;34m\u001b[0m\u001b[0;34m\u001b[0m\u001b[0m\n\u001b[0m\u001b[1;32m    307\u001b[0m             \u001b[0;32mif\u001b[0m \u001b[0;32mnot\u001b[0m \u001b[0mformat_dict\u001b[0m\u001b[0;34m:\u001b[0m\u001b[0;34m\u001b[0m\u001b[0;34m\u001b[0m\u001b[0m\n\u001b[1;32m    308\u001b[0m                 \u001b[0;31m# nothing to display (e.g. _ipython_display_ took over)\u001b[0m\u001b[0;34m\u001b[0m\u001b[0;34m\u001b[0m\u001b[0;34m\u001b[0m\u001b[0m\n",
            "\u001b[0;32m/usr/local/lib/python3.6/dist-packages/IPython/core/formatters.py\u001b[0m in \u001b[0;36mformat\u001b[0;34m(self, obj, include, exclude)\u001b[0m\n\u001b[1;32m    171\u001b[0m             \u001b[0mmd\u001b[0m \u001b[0;34m=\u001b[0m \u001b[0;32mNone\u001b[0m\u001b[0;34m\u001b[0m\u001b[0;34m\u001b[0m\u001b[0m\n\u001b[1;32m    172\u001b[0m             \u001b[0;32mtry\u001b[0m\u001b[0;34m:\u001b[0m\u001b[0;34m\u001b[0m\u001b[0;34m\u001b[0m\u001b[0m\n\u001b[0;32m--> 173\u001b[0;31m                 \u001b[0mdata\u001b[0m \u001b[0;34m=\u001b[0m \u001b[0mformatter\u001b[0m\u001b[0;34m(\u001b[0m\u001b[0mobj\u001b[0m\u001b[0;34m)\u001b[0m\u001b[0;34m\u001b[0m\u001b[0;34m\u001b[0m\u001b[0m\n\u001b[0m\u001b[1;32m    174\u001b[0m             \u001b[0;32mexcept\u001b[0m\u001b[0;34m:\u001b[0m\u001b[0;34m\u001b[0m\u001b[0;34m\u001b[0m\u001b[0m\n\u001b[1;32m    175\u001b[0m                 \u001b[0;31m# FIXME: log the exception\u001b[0m\u001b[0;34m\u001b[0m\u001b[0;34m\u001b[0m\u001b[0;34m\u001b[0m\u001b[0m\n",
            "\u001b[0;32m<decorator-gen-9>\u001b[0m in \u001b[0;36m__call__\u001b[0;34m(self, obj)\u001b[0m\n",
            "\u001b[0;32m/usr/local/lib/python3.6/dist-packages/IPython/core/formatters.py\u001b[0m in \u001b[0;36mcatch_format_error\u001b[0;34m(method, self, *args, **kwargs)\u001b[0m\n\u001b[1;32m    215\u001b[0m     \u001b[0;34m\"\"\"show traceback on failed format call\"\"\"\u001b[0m\u001b[0;34m\u001b[0m\u001b[0;34m\u001b[0m\u001b[0m\n\u001b[1;32m    216\u001b[0m     \u001b[0;32mtry\u001b[0m\u001b[0;34m:\u001b[0m\u001b[0;34m\u001b[0m\u001b[0;34m\u001b[0m\u001b[0m\n\u001b[0;32m--> 217\u001b[0;31m         \u001b[0mr\u001b[0m \u001b[0;34m=\u001b[0m \u001b[0mmethod\u001b[0m\u001b[0;34m(\u001b[0m\u001b[0mself\u001b[0m\u001b[0;34m,\u001b[0m \u001b[0;34m*\u001b[0m\u001b[0margs\u001b[0m\u001b[0;34m,\u001b[0m \u001b[0;34m**\u001b[0m\u001b[0mkwargs\u001b[0m\u001b[0;34m)\u001b[0m\u001b[0;34m\u001b[0m\u001b[0;34m\u001b[0m\u001b[0m\n\u001b[0m\u001b[1;32m    218\u001b[0m     \u001b[0;32mexcept\u001b[0m \u001b[0mNotImplementedError\u001b[0m\u001b[0;34m:\u001b[0m\u001b[0;34m\u001b[0m\u001b[0;34m\u001b[0m\u001b[0m\n\u001b[1;32m    219\u001b[0m         \u001b[0;31m# don't warn on NotImplementedErrors\u001b[0m\u001b[0;34m\u001b[0m\u001b[0;34m\u001b[0m\u001b[0;34m\u001b[0m\u001b[0m\n",
            "\u001b[0;32m/usr/local/lib/python3.6/dist-packages/IPython/core/formatters.py\u001b[0m in \u001b[0;36m__call__\u001b[0;34m(self, obj)\u001b[0m\n\u001b[1;32m    332\u001b[0m                 \u001b[0;32mpass\u001b[0m\u001b[0;34m\u001b[0m\u001b[0;34m\u001b[0m\u001b[0m\n\u001b[1;32m    333\u001b[0m             \u001b[0;32melse\u001b[0m\u001b[0;34m:\u001b[0m\u001b[0;34m\u001b[0m\u001b[0;34m\u001b[0m\u001b[0m\n\u001b[0;32m--> 334\u001b[0;31m                 \u001b[0;32mreturn\u001b[0m \u001b[0mprinter\u001b[0m\u001b[0;34m(\u001b[0m\u001b[0mobj\u001b[0m\u001b[0;34m)\u001b[0m\u001b[0;34m\u001b[0m\u001b[0;34m\u001b[0m\u001b[0m\n\u001b[0m\u001b[1;32m    335\u001b[0m             \u001b[0;31m# Finally look for special method names\u001b[0m\u001b[0;34m\u001b[0m\u001b[0;34m\u001b[0m\u001b[0;34m\u001b[0m\u001b[0m\n\u001b[1;32m    336\u001b[0m             \u001b[0mmethod\u001b[0m \u001b[0;34m=\u001b[0m \u001b[0mget_real_method\u001b[0m\u001b[0;34m(\u001b[0m\u001b[0mobj\u001b[0m\u001b[0;34m,\u001b[0m \u001b[0mself\u001b[0m\u001b[0;34m.\u001b[0m\u001b[0mprint_method\u001b[0m\u001b[0;34m)\u001b[0m\u001b[0;34m\u001b[0m\u001b[0;34m\u001b[0m\u001b[0m\n",
            "\u001b[0;32m/usr/local/lib/python3.6/dist-packages/IPython/core/pylabtools.py\u001b[0m in \u001b[0;36m<lambda>\u001b[0;34m(fig)\u001b[0m\n\u001b[1;32m    239\u001b[0m \u001b[0;34m\u001b[0m\u001b[0m\n\u001b[1;32m    240\u001b[0m     \u001b[0;32mif\u001b[0m \u001b[0;34m'png'\u001b[0m \u001b[0;32min\u001b[0m \u001b[0mformats\u001b[0m\u001b[0;34m:\u001b[0m\u001b[0;34m\u001b[0m\u001b[0;34m\u001b[0m\u001b[0m\n\u001b[0;32m--> 241\u001b[0;31m         \u001b[0mpng_formatter\u001b[0m\u001b[0;34m.\u001b[0m\u001b[0mfor_type\u001b[0m\u001b[0;34m(\u001b[0m\u001b[0mFigure\u001b[0m\u001b[0;34m,\u001b[0m \u001b[0;32mlambda\u001b[0m \u001b[0mfig\u001b[0m\u001b[0;34m:\u001b[0m \u001b[0mprint_figure\u001b[0m\u001b[0;34m(\u001b[0m\u001b[0mfig\u001b[0m\u001b[0;34m,\u001b[0m \u001b[0;34m'png'\u001b[0m\u001b[0;34m,\u001b[0m \u001b[0;34m**\u001b[0m\u001b[0mkwargs\u001b[0m\u001b[0;34m)\u001b[0m\u001b[0;34m)\u001b[0m\u001b[0;34m\u001b[0m\u001b[0;34m\u001b[0m\u001b[0m\n\u001b[0m\u001b[1;32m    242\u001b[0m     \u001b[0;32mif\u001b[0m \u001b[0;34m'retina'\u001b[0m \u001b[0;32min\u001b[0m \u001b[0mformats\u001b[0m \u001b[0;32mor\u001b[0m \u001b[0;34m'png2x'\u001b[0m \u001b[0;32min\u001b[0m \u001b[0mformats\u001b[0m\u001b[0;34m:\u001b[0m\u001b[0;34m\u001b[0m\u001b[0;34m\u001b[0m\u001b[0m\n\u001b[1;32m    243\u001b[0m         \u001b[0mpng_formatter\u001b[0m\u001b[0;34m.\u001b[0m\u001b[0mfor_type\u001b[0m\u001b[0;34m(\u001b[0m\u001b[0mFigure\u001b[0m\u001b[0;34m,\u001b[0m \u001b[0;32mlambda\u001b[0m \u001b[0mfig\u001b[0m\u001b[0;34m:\u001b[0m \u001b[0mretina_figure\u001b[0m\u001b[0;34m(\u001b[0m\u001b[0mfig\u001b[0m\u001b[0;34m,\u001b[0m \u001b[0;34m**\u001b[0m\u001b[0mkwargs\u001b[0m\u001b[0;34m)\u001b[0m\u001b[0;34m)\u001b[0m\u001b[0;34m\u001b[0m\u001b[0;34m\u001b[0m\u001b[0m\n",
            "\u001b[0;32m/usr/local/lib/python3.6/dist-packages/IPython/core/pylabtools.py\u001b[0m in \u001b[0;36mprint_figure\u001b[0;34m(fig, fmt, bbox_inches, **kwargs)\u001b[0m\n\u001b[1;32m    123\u001b[0m \u001b[0;34m\u001b[0m\u001b[0m\n\u001b[1;32m    124\u001b[0m     \u001b[0mbytes_io\u001b[0m \u001b[0;34m=\u001b[0m \u001b[0mBytesIO\u001b[0m\u001b[0;34m(\u001b[0m\u001b[0;34m)\u001b[0m\u001b[0;34m\u001b[0m\u001b[0;34m\u001b[0m\u001b[0m\n\u001b[0;32m--> 125\u001b[0;31m     \u001b[0mfig\u001b[0m\u001b[0;34m.\u001b[0m\u001b[0mcanvas\u001b[0m\u001b[0;34m.\u001b[0m\u001b[0mprint_figure\u001b[0m\u001b[0;34m(\u001b[0m\u001b[0mbytes_io\u001b[0m\u001b[0;34m,\u001b[0m \u001b[0;34m**\u001b[0m\u001b[0mkw\u001b[0m\u001b[0;34m)\u001b[0m\u001b[0;34m\u001b[0m\u001b[0;34m\u001b[0m\u001b[0m\n\u001b[0m\u001b[1;32m    126\u001b[0m     \u001b[0mdata\u001b[0m \u001b[0;34m=\u001b[0m \u001b[0mbytes_io\u001b[0m\u001b[0;34m.\u001b[0m\u001b[0mgetvalue\u001b[0m\u001b[0;34m(\u001b[0m\u001b[0;34m)\u001b[0m\u001b[0;34m\u001b[0m\u001b[0;34m\u001b[0m\u001b[0m\n\u001b[1;32m    127\u001b[0m     \u001b[0;32mif\u001b[0m \u001b[0mfmt\u001b[0m \u001b[0;34m==\u001b[0m \u001b[0;34m'svg'\u001b[0m\u001b[0;34m:\u001b[0m\u001b[0;34m\u001b[0m\u001b[0;34m\u001b[0m\u001b[0m\n",
            "\u001b[0;32m/usr/local/lib/python3.6/dist-packages/matplotlib/backend_bases.py\u001b[0m in \u001b[0;36mprint_figure\u001b[0;34m(self, filename, dpi, facecolor, edgecolor, orientation, format, bbox_inches, **kwargs)\u001b[0m\n\u001b[1;32m   2124\u001b[0m                     \u001b[0morientation\u001b[0m\u001b[0;34m=\u001b[0m\u001b[0morientation\u001b[0m\u001b[0;34m,\u001b[0m\u001b[0;34m\u001b[0m\u001b[0;34m\u001b[0m\u001b[0m\n\u001b[1;32m   2125\u001b[0m                     \u001b[0mbbox_inches_restore\u001b[0m\u001b[0;34m=\u001b[0m\u001b[0m_bbox_inches_restore\u001b[0m\u001b[0;34m,\u001b[0m\u001b[0;34m\u001b[0m\u001b[0;34m\u001b[0m\u001b[0m\n\u001b[0;32m-> 2126\u001b[0;31m                     **kwargs)\n\u001b[0m\u001b[1;32m   2127\u001b[0m             \u001b[0;32mfinally\u001b[0m\u001b[0;34m:\u001b[0m\u001b[0;34m\u001b[0m\u001b[0;34m\u001b[0m\u001b[0m\n\u001b[1;32m   2128\u001b[0m                 \u001b[0;32mif\u001b[0m \u001b[0mbbox_inches\u001b[0m \u001b[0;32mand\u001b[0m \u001b[0mrestore_bbox\u001b[0m\u001b[0;34m:\u001b[0m\u001b[0;34m\u001b[0m\u001b[0;34m\u001b[0m\u001b[0m\n",
            "\u001b[0;32m/usr/local/lib/python3.6/dist-packages/matplotlib/backends/backend_agg.py\u001b[0m in \u001b[0;36mprint_png\u001b[0;34m(self, filename_or_obj, metadata, pil_kwargs, *args, **kwargs)\u001b[0m\n\u001b[1;32m    512\u001b[0m         }\n\u001b[1;32m    513\u001b[0m \u001b[0;34m\u001b[0m\u001b[0m\n\u001b[0;32m--> 514\u001b[0;31m         \u001b[0mFigureCanvasAgg\u001b[0m\u001b[0;34m.\u001b[0m\u001b[0mdraw\u001b[0m\u001b[0;34m(\u001b[0m\u001b[0mself\u001b[0m\u001b[0;34m)\u001b[0m\u001b[0;34m\u001b[0m\u001b[0;34m\u001b[0m\u001b[0m\n\u001b[0m\u001b[1;32m    515\u001b[0m         \u001b[0;32mif\u001b[0m \u001b[0mpil_kwargs\u001b[0m \u001b[0;32mis\u001b[0m \u001b[0;32mnot\u001b[0m \u001b[0;32mNone\u001b[0m\u001b[0;34m:\u001b[0m\u001b[0;34m\u001b[0m\u001b[0;34m\u001b[0m\u001b[0m\n\u001b[1;32m    516\u001b[0m             \u001b[0;32mfrom\u001b[0m \u001b[0mPIL\u001b[0m \u001b[0;32mimport\u001b[0m \u001b[0mImage\u001b[0m\u001b[0;34m\u001b[0m\u001b[0;34m\u001b[0m\u001b[0m\n",
            "\u001b[0;32m/usr/local/lib/python3.6/dist-packages/matplotlib/backends/backend_agg.py\u001b[0m in \u001b[0;36mdraw\u001b[0;34m(self)\u001b[0m\n\u001b[1;32m    391\u001b[0m              (self.toolbar._wait_cursor_for_draw_cm() if self.toolbar\n\u001b[1;32m    392\u001b[0m               else nullcontext()):\n\u001b[0;32m--> 393\u001b[0;31m             \u001b[0mself\u001b[0m\u001b[0;34m.\u001b[0m\u001b[0mfigure\u001b[0m\u001b[0;34m.\u001b[0m\u001b[0mdraw\u001b[0m\u001b[0;34m(\u001b[0m\u001b[0mself\u001b[0m\u001b[0;34m.\u001b[0m\u001b[0mrenderer\u001b[0m\u001b[0;34m)\u001b[0m\u001b[0;34m\u001b[0m\u001b[0;34m\u001b[0m\u001b[0m\n\u001b[0m\u001b[1;32m    394\u001b[0m             \u001b[0;31m# A GUI class may be need to update a window using this draw, so\u001b[0m\u001b[0;34m\u001b[0m\u001b[0;34m\u001b[0m\u001b[0;34m\u001b[0m\u001b[0m\n\u001b[1;32m    395\u001b[0m             \u001b[0;31m# don't forget to call the superclass.\u001b[0m\u001b[0;34m\u001b[0m\u001b[0;34m\u001b[0m\u001b[0;34m\u001b[0m\u001b[0m\n",
            "\u001b[0;32m/usr/local/lib/python3.6/dist-packages/matplotlib/artist.py\u001b[0m in \u001b[0;36mdraw_wrapper\u001b[0;34m(artist, renderer, *args, **kwargs)\u001b[0m\n\u001b[1;32m     36\u001b[0m                 \u001b[0mrenderer\u001b[0m\u001b[0;34m.\u001b[0m\u001b[0mstart_filter\u001b[0m\u001b[0;34m(\u001b[0m\u001b[0;34m)\u001b[0m\u001b[0;34m\u001b[0m\u001b[0;34m\u001b[0m\u001b[0m\n\u001b[1;32m     37\u001b[0m \u001b[0;34m\u001b[0m\u001b[0m\n\u001b[0;32m---> 38\u001b[0;31m             \u001b[0;32mreturn\u001b[0m \u001b[0mdraw\u001b[0m\u001b[0;34m(\u001b[0m\u001b[0martist\u001b[0m\u001b[0;34m,\u001b[0m \u001b[0mrenderer\u001b[0m\u001b[0;34m,\u001b[0m \u001b[0;34m*\u001b[0m\u001b[0margs\u001b[0m\u001b[0;34m,\u001b[0m \u001b[0;34m**\u001b[0m\u001b[0mkwargs\u001b[0m\u001b[0;34m)\u001b[0m\u001b[0;34m\u001b[0m\u001b[0;34m\u001b[0m\u001b[0m\n\u001b[0m\u001b[1;32m     39\u001b[0m         \u001b[0;32mfinally\u001b[0m\u001b[0;34m:\u001b[0m\u001b[0;34m\u001b[0m\u001b[0;34m\u001b[0m\u001b[0m\n\u001b[1;32m     40\u001b[0m             \u001b[0;32mif\u001b[0m \u001b[0martist\u001b[0m\u001b[0;34m.\u001b[0m\u001b[0mget_agg_filter\u001b[0m\u001b[0;34m(\u001b[0m\u001b[0;34m)\u001b[0m \u001b[0;32mis\u001b[0m \u001b[0;32mnot\u001b[0m \u001b[0;32mNone\u001b[0m\u001b[0;34m:\u001b[0m\u001b[0;34m\u001b[0m\u001b[0;34m\u001b[0m\u001b[0m\n",
            "\u001b[0;32m/usr/local/lib/python3.6/dist-packages/matplotlib/figure.py\u001b[0m in \u001b[0;36mdraw\u001b[0;34m(self, renderer)\u001b[0m\n\u001b[1;32m   1734\u001b[0m             \u001b[0mself\u001b[0m\u001b[0;34m.\u001b[0m\u001b[0mpatch\u001b[0m\u001b[0;34m.\u001b[0m\u001b[0mdraw\u001b[0m\u001b[0;34m(\u001b[0m\u001b[0mrenderer\u001b[0m\u001b[0;34m)\u001b[0m\u001b[0;34m\u001b[0m\u001b[0;34m\u001b[0m\u001b[0m\n\u001b[1;32m   1735\u001b[0m             mimage._draw_list_compositing_images(\n\u001b[0;32m-> 1736\u001b[0;31m                 renderer, self, artists, self.suppressComposite)\n\u001b[0m\u001b[1;32m   1737\u001b[0m \u001b[0;34m\u001b[0m\u001b[0m\n\u001b[1;32m   1738\u001b[0m             \u001b[0mrenderer\u001b[0m\u001b[0;34m.\u001b[0m\u001b[0mclose_group\u001b[0m\u001b[0;34m(\u001b[0m\u001b[0;34m'figure'\u001b[0m\u001b[0;34m)\u001b[0m\u001b[0;34m\u001b[0m\u001b[0;34m\u001b[0m\u001b[0m\n",
            "\u001b[0;32m/usr/local/lib/python3.6/dist-packages/matplotlib/image.py\u001b[0m in \u001b[0;36m_draw_list_compositing_images\u001b[0;34m(renderer, parent, artists, suppress_composite)\u001b[0m\n\u001b[1;32m    135\u001b[0m     \u001b[0;32mif\u001b[0m \u001b[0mnot_composite\u001b[0m \u001b[0;32mor\u001b[0m \u001b[0;32mnot\u001b[0m \u001b[0mhas_images\u001b[0m\u001b[0;34m:\u001b[0m\u001b[0;34m\u001b[0m\u001b[0;34m\u001b[0m\u001b[0m\n\u001b[1;32m    136\u001b[0m         \u001b[0;32mfor\u001b[0m \u001b[0ma\u001b[0m \u001b[0;32min\u001b[0m \u001b[0martists\u001b[0m\u001b[0;34m:\u001b[0m\u001b[0;34m\u001b[0m\u001b[0;34m\u001b[0m\u001b[0m\n\u001b[0;32m--> 137\u001b[0;31m             \u001b[0ma\u001b[0m\u001b[0;34m.\u001b[0m\u001b[0mdraw\u001b[0m\u001b[0;34m(\u001b[0m\u001b[0mrenderer\u001b[0m\u001b[0;34m)\u001b[0m\u001b[0;34m\u001b[0m\u001b[0;34m\u001b[0m\u001b[0m\n\u001b[0m\u001b[1;32m    138\u001b[0m     \u001b[0;32melse\u001b[0m\u001b[0;34m:\u001b[0m\u001b[0;34m\u001b[0m\u001b[0;34m\u001b[0m\u001b[0m\n\u001b[1;32m    139\u001b[0m         \u001b[0;31m# Composite any adjacent images together\u001b[0m\u001b[0;34m\u001b[0m\u001b[0;34m\u001b[0m\u001b[0;34m\u001b[0m\u001b[0m\n",
            "\u001b[0;32m/usr/local/lib/python3.6/dist-packages/matplotlib/artist.py\u001b[0m in \u001b[0;36mdraw_wrapper\u001b[0;34m(artist, renderer, *args, **kwargs)\u001b[0m\n\u001b[1;32m     36\u001b[0m                 \u001b[0mrenderer\u001b[0m\u001b[0;34m.\u001b[0m\u001b[0mstart_filter\u001b[0m\u001b[0;34m(\u001b[0m\u001b[0;34m)\u001b[0m\u001b[0;34m\u001b[0m\u001b[0;34m\u001b[0m\u001b[0m\n\u001b[1;32m     37\u001b[0m \u001b[0;34m\u001b[0m\u001b[0m\n\u001b[0;32m---> 38\u001b[0;31m             \u001b[0;32mreturn\u001b[0m \u001b[0mdraw\u001b[0m\u001b[0;34m(\u001b[0m\u001b[0martist\u001b[0m\u001b[0;34m,\u001b[0m \u001b[0mrenderer\u001b[0m\u001b[0;34m,\u001b[0m \u001b[0;34m*\u001b[0m\u001b[0margs\u001b[0m\u001b[0;34m,\u001b[0m \u001b[0;34m**\u001b[0m\u001b[0mkwargs\u001b[0m\u001b[0;34m)\u001b[0m\u001b[0;34m\u001b[0m\u001b[0;34m\u001b[0m\u001b[0m\n\u001b[0m\u001b[1;32m     39\u001b[0m         \u001b[0;32mfinally\u001b[0m\u001b[0;34m:\u001b[0m\u001b[0;34m\u001b[0m\u001b[0;34m\u001b[0m\u001b[0m\n\u001b[1;32m     40\u001b[0m             \u001b[0;32mif\u001b[0m \u001b[0martist\u001b[0m\u001b[0;34m.\u001b[0m\u001b[0mget_agg_filter\u001b[0m\u001b[0;34m(\u001b[0m\u001b[0;34m)\u001b[0m \u001b[0;32mis\u001b[0m \u001b[0;32mnot\u001b[0m \u001b[0;32mNone\u001b[0m\u001b[0;34m:\u001b[0m\u001b[0;34m\u001b[0m\u001b[0;34m\u001b[0m\u001b[0m\n",
            "\u001b[0;32m/usr/local/lib/python3.6/dist-packages/matplotlib/axes/_base.py\u001b[0m in \u001b[0;36mdraw\u001b[0;34m(self, renderer, inframe)\u001b[0m\n\u001b[1;32m   2628\u001b[0m             \u001b[0mrenderer\u001b[0m\u001b[0;34m.\u001b[0m\u001b[0mstop_rasterizing\u001b[0m\u001b[0;34m(\u001b[0m\u001b[0;34m)\u001b[0m\u001b[0;34m\u001b[0m\u001b[0;34m\u001b[0m\u001b[0m\n\u001b[1;32m   2629\u001b[0m \u001b[0;34m\u001b[0m\u001b[0m\n\u001b[0;32m-> 2630\u001b[0;31m         \u001b[0mmimage\u001b[0m\u001b[0;34m.\u001b[0m\u001b[0m_draw_list_compositing_images\u001b[0m\u001b[0;34m(\u001b[0m\u001b[0mrenderer\u001b[0m\u001b[0;34m,\u001b[0m \u001b[0mself\u001b[0m\u001b[0;34m,\u001b[0m \u001b[0martists\u001b[0m\u001b[0;34m)\u001b[0m\u001b[0;34m\u001b[0m\u001b[0;34m\u001b[0m\u001b[0m\n\u001b[0m\u001b[1;32m   2631\u001b[0m \u001b[0;34m\u001b[0m\u001b[0m\n\u001b[1;32m   2632\u001b[0m         \u001b[0mrenderer\u001b[0m\u001b[0;34m.\u001b[0m\u001b[0mclose_group\u001b[0m\u001b[0;34m(\u001b[0m\u001b[0;34m'axes'\u001b[0m\u001b[0;34m)\u001b[0m\u001b[0;34m\u001b[0m\u001b[0;34m\u001b[0m\u001b[0m\n",
            "\u001b[0;32m/usr/local/lib/python3.6/dist-packages/matplotlib/image.py\u001b[0m in \u001b[0;36m_draw_list_compositing_images\u001b[0;34m(renderer, parent, artists, suppress_composite)\u001b[0m\n\u001b[1;32m    135\u001b[0m     \u001b[0;32mif\u001b[0m \u001b[0mnot_composite\u001b[0m \u001b[0;32mor\u001b[0m \u001b[0;32mnot\u001b[0m \u001b[0mhas_images\u001b[0m\u001b[0;34m:\u001b[0m\u001b[0;34m\u001b[0m\u001b[0;34m\u001b[0m\u001b[0m\n\u001b[1;32m    136\u001b[0m         \u001b[0;32mfor\u001b[0m \u001b[0ma\u001b[0m \u001b[0;32min\u001b[0m \u001b[0martists\u001b[0m\u001b[0;34m:\u001b[0m\u001b[0;34m\u001b[0m\u001b[0;34m\u001b[0m\u001b[0m\n\u001b[0;32m--> 137\u001b[0;31m             \u001b[0ma\u001b[0m\u001b[0;34m.\u001b[0m\u001b[0mdraw\u001b[0m\u001b[0;34m(\u001b[0m\u001b[0mrenderer\u001b[0m\u001b[0;34m)\u001b[0m\u001b[0;34m\u001b[0m\u001b[0;34m\u001b[0m\u001b[0m\n\u001b[0m\u001b[1;32m    138\u001b[0m     \u001b[0;32melse\u001b[0m\u001b[0;34m:\u001b[0m\u001b[0;34m\u001b[0m\u001b[0;34m\u001b[0m\u001b[0m\n\u001b[1;32m    139\u001b[0m         \u001b[0;31m# Composite any adjacent images together\u001b[0m\u001b[0;34m\u001b[0m\u001b[0;34m\u001b[0m\u001b[0;34m\u001b[0m\u001b[0m\n",
            "\u001b[0;32m/usr/local/lib/python3.6/dist-packages/matplotlib/artist.py\u001b[0m in \u001b[0;36mdraw_wrapper\u001b[0;34m(artist, renderer, *args, **kwargs)\u001b[0m\n\u001b[1;32m     36\u001b[0m                 \u001b[0mrenderer\u001b[0m\u001b[0;34m.\u001b[0m\u001b[0mstart_filter\u001b[0m\u001b[0;34m(\u001b[0m\u001b[0;34m)\u001b[0m\u001b[0;34m\u001b[0m\u001b[0;34m\u001b[0m\u001b[0m\n\u001b[1;32m     37\u001b[0m \u001b[0;34m\u001b[0m\u001b[0m\n\u001b[0;32m---> 38\u001b[0;31m             \u001b[0;32mreturn\u001b[0m \u001b[0mdraw\u001b[0m\u001b[0;34m(\u001b[0m\u001b[0martist\u001b[0m\u001b[0;34m,\u001b[0m \u001b[0mrenderer\u001b[0m\u001b[0;34m,\u001b[0m \u001b[0;34m*\u001b[0m\u001b[0margs\u001b[0m\u001b[0;34m,\u001b[0m \u001b[0;34m**\u001b[0m\u001b[0mkwargs\u001b[0m\u001b[0;34m)\u001b[0m\u001b[0;34m\u001b[0m\u001b[0;34m\u001b[0m\u001b[0m\n\u001b[0m\u001b[1;32m     39\u001b[0m         \u001b[0;32mfinally\u001b[0m\u001b[0;34m:\u001b[0m\u001b[0;34m\u001b[0m\u001b[0;34m\u001b[0m\u001b[0m\n\u001b[1;32m     40\u001b[0m             \u001b[0;32mif\u001b[0m \u001b[0martist\u001b[0m\u001b[0;34m.\u001b[0m\u001b[0mget_agg_filter\u001b[0m\u001b[0;34m(\u001b[0m\u001b[0;34m)\u001b[0m \u001b[0;32mis\u001b[0m \u001b[0;32mnot\u001b[0m \u001b[0;32mNone\u001b[0m\u001b[0;34m:\u001b[0m\u001b[0;34m\u001b[0m\u001b[0;34m\u001b[0m\u001b[0m\n",
            "\u001b[0;32m/usr/local/lib/python3.6/dist-packages/matplotlib/image.py\u001b[0m in \u001b[0;36mdraw\u001b[0;34m(self, renderer, *args, **kwargs)\u001b[0m\n\u001b[1;32m    624\u001b[0m         \u001b[0;32melse\u001b[0m\u001b[0;34m:\u001b[0m\u001b[0;34m\u001b[0m\u001b[0;34m\u001b[0m\u001b[0m\n\u001b[1;32m    625\u001b[0m             im, l, b, trans = self.make_image(\n\u001b[0;32m--> 626\u001b[0;31m                 renderer, renderer.get_image_magnification())\n\u001b[0m\u001b[1;32m    627\u001b[0m             \u001b[0;32mif\u001b[0m \u001b[0mim\u001b[0m \u001b[0;32mis\u001b[0m \u001b[0;32mnot\u001b[0m \u001b[0;32mNone\u001b[0m\u001b[0;34m:\u001b[0m\u001b[0;34m\u001b[0m\u001b[0;34m\u001b[0m\u001b[0m\n\u001b[1;32m    628\u001b[0m                 \u001b[0mrenderer\u001b[0m\u001b[0;34m.\u001b[0m\u001b[0mdraw_image\u001b[0m\u001b[0;34m(\u001b[0m\u001b[0mgc\u001b[0m\u001b[0;34m,\u001b[0m \u001b[0ml\u001b[0m\u001b[0;34m,\u001b[0m \u001b[0mb\u001b[0m\u001b[0;34m,\u001b[0m \u001b[0mim\u001b[0m\u001b[0;34m)\u001b[0m\u001b[0;34m\u001b[0m\u001b[0;34m\u001b[0m\u001b[0m\n",
            "\u001b[0;32m/usr/local/lib/python3.6/dist-packages/matplotlib/image.py\u001b[0m in \u001b[0;36mmake_image\u001b[0;34m(self, renderer, magnification, unsampled)\u001b[0m\n\u001b[1;32m    915\u001b[0m             \u001b[0mself\u001b[0m\u001b[0;34m.\u001b[0m\u001b[0m_A\u001b[0m\u001b[0;34m,\u001b[0m \u001b[0mbbox\u001b[0m\u001b[0;34m,\u001b[0m \u001b[0mtransformed_bbox\u001b[0m\u001b[0;34m,\u001b[0m\u001b[0;34m\u001b[0m\u001b[0;34m\u001b[0m\u001b[0m\n\u001b[1;32m    916\u001b[0m             \u001b[0mself\u001b[0m\u001b[0;34m.\u001b[0m\u001b[0mget_clip_box\u001b[0m\u001b[0;34m(\u001b[0m\u001b[0;34m)\u001b[0m \u001b[0;32mor\u001b[0m \u001b[0mself\u001b[0m\u001b[0;34m.\u001b[0m\u001b[0maxes\u001b[0m\u001b[0;34m.\u001b[0m\u001b[0mbbox\u001b[0m\u001b[0;34m,\u001b[0m\u001b[0;34m\u001b[0m\u001b[0;34m\u001b[0m\u001b[0m\n\u001b[0;32m--> 917\u001b[0;31m             magnification, unsampled=unsampled)\n\u001b[0m\u001b[1;32m    918\u001b[0m \u001b[0;34m\u001b[0m\u001b[0m\n\u001b[1;32m    919\u001b[0m     \u001b[0;32mdef\u001b[0m \u001b[0m_check_unsampled_image\u001b[0m\u001b[0;34m(\u001b[0m\u001b[0mself\u001b[0m\u001b[0;34m,\u001b[0m \u001b[0mrenderer\u001b[0m\u001b[0;34m)\u001b[0m\u001b[0;34m:\u001b[0m\u001b[0;34m\u001b[0m\u001b[0;34m\u001b[0m\u001b[0m\n",
            "\u001b[0;32m/usr/local/lib/python3.6/dist-packages/matplotlib/image.py\u001b[0m in \u001b[0;36m_make_image\u001b[0;34m(self, A, in_bbox, out_bbox, clip_bbox, magnification, unsampled, round_to_pixel_border)\u001b[0m\n\u001b[1;32m    522\u001b[0m                     self, A[..., 3], out_shape, t, alpha=alpha)\n\u001b[1;32m    523\u001b[0m                 output = _resample(  # resample rgb channels\n\u001b[0;32m--> 524\u001b[0;31m                     self, _rgb_to_rgba(A[..., :3]), out_shape, t, alpha=alpha)\n\u001b[0m\u001b[1;32m    525\u001b[0m                 \u001b[0moutput\u001b[0m\u001b[0;34m[\u001b[0m\u001b[0;34m...\u001b[0m\u001b[0;34m,\u001b[0m \u001b[0;36m3\u001b[0m\u001b[0;34m]\u001b[0m \u001b[0;34m=\u001b[0m \u001b[0moutput_alpha\u001b[0m  \u001b[0;31m# recombine rgb and alpha\u001b[0m\u001b[0;34m\u001b[0m\u001b[0;34m\u001b[0m\u001b[0m\n\u001b[1;32m    526\u001b[0m \u001b[0;34m\u001b[0m\u001b[0m\n",
            "\u001b[0;32m/usr/local/lib/python3.6/dist-packages/matplotlib/image.py\u001b[0m in \u001b[0;36m_resample\u001b[0;34m(image_obj, data, out_shape, transform, resample, alpha)\u001b[0m\n\u001b[1;32m    200\u001b[0m                     \u001b[0malpha\u001b[0m\u001b[0;34m,\u001b[0m\u001b[0;34m\u001b[0m\u001b[0;34m\u001b[0m\u001b[0m\n\u001b[1;32m    201\u001b[0m                     \u001b[0mimage_obj\u001b[0m\u001b[0;34m.\u001b[0m\u001b[0mget_filternorm\u001b[0m\u001b[0;34m(\u001b[0m\u001b[0;34m)\u001b[0m\u001b[0;34m,\u001b[0m\u001b[0;34m\u001b[0m\u001b[0;34m\u001b[0m\u001b[0m\n\u001b[0;32m--> 202\u001b[0;31m                     image_obj.get_filterrad())\n\u001b[0m\u001b[1;32m    203\u001b[0m     \u001b[0;32mreturn\u001b[0m \u001b[0mout\u001b[0m\u001b[0;34m\u001b[0m\u001b[0;34m\u001b[0m\u001b[0m\n\u001b[1;32m    204\u001b[0m \u001b[0;34m\u001b[0m\u001b[0m\n",
            "\u001b[0;31mKeyboardInterrupt\u001b[0m: "
          ]
        },
        {
          "output_type": "display_data",
          "data": {
            "image/png": "[encoded data removed]",
            "text/plain": [
              "<Figure size 432x288 with 1 Axes>"
            ]
          },
          "metadata": {
            "tags": [],
            "needs_background": "light"
          }
        }
      ]
    }
  ]
}